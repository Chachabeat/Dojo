{
  "nbformat": 4,
  "nbformat_minor": 0,
  "metadata": {
    "kernelspec": {
      "display_name": "Python 3",
      "language": "python",
      "name": "python3"
    },
    "language_info": {
      "codemirror_mode": {
        "name": "ipython",
        "version": 3
      },
      "file_extension": ".py",
      "mimetype": "text/x-python",
      "name": "python",
      "nbconvert_exporter": "python",
      "pygments_lexer": "ipython3",
      "version": "3.8.5"
    },
    "colab": {
      "name": "Titanic Exercise.ipynb",
      "provenance": [],
      "collapsed_sections": [],
      "include_colab_link": true
    }
  },
  "cells": [
    {
      "cell_type": "markdown",
      "metadata": {
        "id": "view-in-github",
        "colab_type": "text"
      },
      "source": [
        "<a href=\"https://colab.research.google.com/github/Chachabeat/Dojo/blob/main/Titanic_Exercise.ipynb\" target=\"_parent\"><img src=\"https://colab.research.google.com/assets/colab-badge.svg\" alt=\"Open In Colab\"/></a>"
      ]
    },
    {
      "cell_type": "markdown",
      "metadata": {
        "id": "gIJv5bIWRoOt"
      },
      "source": [
        "### 0. Problem definition"
      ]
    },
    {
      "cell_type": "markdown",
      "metadata": {
        "id": "u7bljlVHRoOu"
      },
      "source": [
        "To accurately predict the survival of passengers on the Titanic."
      ]
    },
    {
      "cell_type": "code",
      "metadata": {
        "id": "nacK9c3ORoOv"
      },
      "source": [
        "from IPython.core.interactiveshell import InteractiveShell\n",
        "InteractiveShell.ast_node_interactivity = \"all\""
      ],
      "execution_count": 1,
      "outputs": []
    },
    {
      "cell_type": "markdown",
      "metadata": {
        "id": "wLjkRJLiRoOx"
      },
      "source": [
        "### 1. Get data"
      ]
    },
    {
      "cell_type": "code",
      "metadata": {
        "id": "ixm-F3xwRoOx",
        "outputId": "e8cd6bb0-73c7-4c4e-fce3-9ec89396b1bd"
      },
      "source": [
        "# Download data from Kaggle using Kaggle API\n",
        "# !kaggle competitions download -c titanic"
      ],
      "execution_count": null,
      "outputs": [
        {
          "output_type": "stream",
          "text": [
            "Downloading titanic.zip to C:\\Users\\barry\\Projects\\Classification\n",
            "\n"
          ],
          "name": "stdout"
        },
        {
          "output_type": "stream",
          "text": [
            "\n",
            "  0%|          | 0.00/34.1k [00:00<?, ?B/s]\n",
            "100%|##########| 34.1k/34.1k [00:00<?, ?B/s]\n"
          ],
          "name": "stderr"
        }
      ]
    },
    {
      "cell_type": "code",
      "metadata": {
        "colab": {
          "base_uri": "https://localhost:8080/"
        },
        "id": "49urz_teTwoy",
        "outputId": "c9a5995e-963e-4522-a6c1-d3ce861d6610"
      },
      "source": [
        "from google.colab import drive\n",
        "drive.mount('/content/gdrive/')"
      ],
      "execution_count": 2,
      "outputs": [
        {
          "output_type": "stream",
          "text": [
            "Mounted at /content/gdrive/\n"
          ],
          "name": "stdout"
        }
      ]
    },
    {
      "cell_type": "code",
      "metadata": {
        "colab": {
          "base_uri": "https://localhost:8080/"
        },
        "id": "VCLRPuWQRsmj",
        "outputId": "8df8ca80-6d45-4080-aad4-1394b8373b9c"
      },
      "source": [
        "import os\n",
        "os.listdir('gdrive/MyDrive/titanic')"
      ],
      "execution_count": 3,
      "outputs": [
        {
          "output_type": "execute_result",
          "data": {
            "text/plain": [
              "['gender_submission.csv', 'test.csv', 'train.csv']"
            ]
          },
          "metadata": {
            "tags": []
          },
          "execution_count": 3
        }
      ]
    },
    {
      "cell_type": "code",
      "metadata": {
        "id": "zILdqVxZRoO0"
      },
      "source": [
        "# Import training set\n",
        "import pandas as pd\n",
        "\n",
        "train = pd.read_csv('gdrive/MyDrive/titanic/train.csv')"
      ],
      "execution_count": 4,
      "outputs": []
    },
    {
      "cell_type": "code",
      "metadata": {
        "colab": {
          "base_uri": "https://localhost:8080/",
          "height": 419
        },
        "id": "RaAWh3g2RoO1",
        "outputId": "65255027-4fd3-48b8-a49f-b10fa9ae43bd"
      },
      "source": [
        "train"
      ],
      "execution_count": null,
      "outputs": [
        {
          "output_type": "execute_result",
          "data": {
            "text/html": [
              "<div>\n",
              "<style scoped>\n",
              "    .dataframe tbody tr th:only-of-type {\n",
              "        vertical-align: middle;\n",
              "    }\n",
              "\n",
              "    .dataframe tbody tr th {\n",
              "        vertical-align: top;\n",
              "    }\n",
              "\n",
              "    .dataframe thead th {\n",
              "        text-align: right;\n",
              "    }\n",
              "</style>\n",
              "<table border=\"1\" class=\"dataframe\">\n",
              "  <thead>\n",
              "    <tr style=\"text-align: right;\">\n",
              "      <th></th>\n",
              "      <th>PassengerId</th>\n",
              "      <th>Survived</th>\n",
              "      <th>Pclass</th>\n",
              "      <th>Name</th>\n",
              "      <th>Sex</th>\n",
              "      <th>Age</th>\n",
              "      <th>SibSp</th>\n",
              "      <th>Parch</th>\n",
              "      <th>Ticket</th>\n",
              "      <th>Fare</th>\n",
              "      <th>Cabin</th>\n",
              "      <th>Embarked</th>\n",
              "    </tr>\n",
              "  </thead>\n",
              "  <tbody>\n",
              "    <tr>\n",
              "      <th>0</th>\n",
              "      <td>1</td>\n",
              "      <td>0</td>\n",
              "      <td>3</td>\n",
              "      <td>Braund, Mr. Owen Harris</td>\n",
              "      <td>male</td>\n",
              "      <td>22.0</td>\n",
              "      <td>1</td>\n",
              "      <td>0</td>\n",
              "      <td>A/5 21171</td>\n",
              "      <td>7.2500</td>\n",
              "      <td>NaN</td>\n",
              "      <td>S</td>\n",
              "    </tr>\n",
              "    <tr>\n",
              "      <th>1</th>\n",
              "      <td>2</td>\n",
              "      <td>1</td>\n",
              "      <td>1</td>\n",
              "      <td>Cumings, Mrs. John Bradley (Florence Briggs Th...</td>\n",
              "      <td>female</td>\n",
              "      <td>38.0</td>\n",
              "      <td>1</td>\n",
              "      <td>0</td>\n",
              "      <td>PC 17599</td>\n",
              "      <td>71.2833</td>\n",
              "      <td>C85</td>\n",
              "      <td>C</td>\n",
              "    </tr>\n",
              "    <tr>\n",
              "      <th>2</th>\n",
              "      <td>3</td>\n",
              "      <td>1</td>\n",
              "      <td>3</td>\n",
              "      <td>Heikkinen, Miss. Laina</td>\n",
              "      <td>female</td>\n",
              "      <td>26.0</td>\n",
              "      <td>0</td>\n",
              "      <td>0</td>\n",
              "      <td>STON/O2. 3101282</td>\n",
              "      <td>7.9250</td>\n",
              "      <td>NaN</td>\n",
              "      <td>S</td>\n",
              "    </tr>\n",
              "    <tr>\n",
              "      <th>3</th>\n",
              "      <td>4</td>\n",
              "      <td>1</td>\n",
              "      <td>1</td>\n",
              "      <td>Futrelle, Mrs. Jacques Heath (Lily May Peel)</td>\n",
              "      <td>female</td>\n",
              "      <td>35.0</td>\n",
              "      <td>1</td>\n",
              "      <td>0</td>\n",
              "      <td>113803</td>\n",
              "      <td>53.1000</td>\n",
              "      <td>C123</td>\n",
              "      <td>S</td>\n",
              "    </tr>\n",
              "    <tr>\n",
              "      <th>4</th>\n",
              "      <td>5</td>\n",
              "      <td>0</td>\n",
              "      <td>3</td>\n",
              "      <td>Allen, Mr. William Henry</td>\n",
              "      <td>male</td>\n",
              "      <td>35.0</td>\n",
              "      <td>0</td>\n",
              "      <td>0</td>\n",
              "      <td>373450</td>\n",
              "      <td>8.0500</td>\n",
              "      <td>NaN</td>\n",
              "      <td>S</td>\n",
              "    </tr>\n",
              "    <tr>\n",
              "      <th>...</th>\n",
              "      <td>...</td>\n",
              "      <td>...</td>\n",
              "      <td>...</td>\n",
              "      <td>...</td>\n",
              "      <td>...</td>\n",
              "      <td>...</td>\n",
              "      <td>...</td>\n",
              "      <td>...</td>\n",
              "      <td>...</td>\n",
              "      <td>...</td>\n",
              "      <td>...</td>\n",
              "      <td>...</td>\n",
              "    </tr>\n",
              "    <tr>\n",
              "      <th>886</th>\n",
              "      <td>887</td>\n",
              "      <td>0</td>\n",
              "      <td>2</td>\n",
              "      <td>Montvila, Rev. Juozas</td>\n",
              "      <td>male</td>\n",
              "      <td>27.0</td>\n",
              "      <td>0</td>\n",
              "      <td>0</td>\n",
              "      <td>211536</td>\n",
              "      <td>13.0000</td>\n",
              "      <td>NaN</td>\n",
              "      <td>S</td>\n",
              "    </tr>\n",
              "    <tr>\n",
              "      <th>887</th>\n",
              "      <td>888</td>\n",
              "      <td>1</td>\n",
              "      <td>1</td>\n",
              "      <td>Graham, Miss. Margaret Edith</td>\n",
              "      <td>female</td>\n",
              "      <td>19.0</td>\n",
              "      <td>0</td>\n",
              "      <td>0</td>\n",
              "      <td>112053</td>\n",
              "      <td>30.0000</td>\n",
              "      <td>B42</td>\n",
              "      <td>S</td>\n",
              "    </tr>\n",
              "    <tr>\n",
              "      <th>888</th>\n",
              "      <td>889</td>\n",
              "      <td>0</td>\n",
              "      <td>3</td>\n",
              "      <td>Johnston, Miss. Catherine Helen \"Carrie\"</td>\n",
              "      <td>female</td>\n",
              "      <td>NaN</td>\n",
              "      <td>1</td>\n",
              "      <td>2</td>\n",
              "      <td>W./C. 6607</td>\n",
              "      <td>23.4500</td>\n",
              "      <td>NaN</td>\n",
              "      <td>S</td>\n",
              "    </tr>\n",
              "    <tr>\n",
              "      <th>889</th>\n",
              "      <td>890</td>\n",
              "      <td>1</td>\n",
              "      <td>1</td>\n",
              "      <td>Behr, Mr. Karl Howell</td>\n",
              "      <td>male</td>\n",
              "      <td>26.0</td>\n",
              "      <td>0</td>\n",
              "      <td>0</td>\n",
              "      <td>111369</td>\n",
              "      <td>30.0000</td>\n",
              "      <td>C148</td>\n",
              "      <td>C</td>\n",
              "    </tr>\n",
              "    <tr>\n",
              "      <th>890</th>\n",
              "      <td>891</td>\n",
              "      <td>0</td>\n",
              "      <td>3</td>\n",
              "      <td>Dooley, Mr. Patrick</td>\n",
              "      <td>male</td>\n",
              "      <td>32.0</td>\n",
              "      <td>0</td>\n",
              "      <td>0</td>\n",
              "      <td>370376</td>\n",
              "      <td>7.7500</td>\n",
              "      <td>NaN</td>\n",
              "      <td>Q</td>\n",
              "    </tr>\n",
              "  </tbody>\n",
              "</table>\n",
              "<p>891 rows × 12 columns</p>\n",
              "</div>"
            ],
            "text/plain": [
              "     PassengerId  Survived  Pclass  ...     Fare Cabin  Embarked\n",
              "0              1         0       3  ...   7.2500   NaN         S\n",
              "1              2         1       1  ...  71.2833   C85         C\n",
              "2              3         1       3  ...   7.9250   NaN         S\n",
              "3              4         1       1  ...  53.1000  C123         S\n",
              "4              5         0       3  ...   8.0500   NaN         S\n",
              "..           ...       ...     ...  ...      ...   ...       ...\n",
              "886          887         0       2  ...  13.0000   NaN         S\n",
              "887          888         1       1  ...  30.0000   B42         S\n",
              "888          889         0       3  ...  23.4500   NaN         S\n",
              "889          890         1       1  ...  30.0000  C148         C\n",
              "890          891         0       3  ...   7.7500   NaN         Q\n",
              "\n",
              "[891 rows x 12 columns]"
            ]
          },
          "metadata": {
            "tags": []
          },
          "execution_count": 11
        }
      ]
    },
    {
      "cell_type": "code",
      "metadata": {
        "colab": {
          "base_uri": "https://localhost:8080/",
          "height": 297
        },
        "id": "PVwDB4wsRoO1",
        "outputId": "d62329e7-87ae-4dfc-e176-38eca0c75b2a"
      },
      "source": [
        "# Check basic summaries\n",
        "train.describe()"
      ],
      "execution_count": null,
      "outputs": [
        {
          "output_type": "execute_result",
          "data": {
            "text/html": [
              "<div>\n",
              "<style scoped>\n",
              "    .dataframe tbody tr th:only-of-type {\n",
              "        vertical-align: middle;\n",
              "    }\n",
              "\n",
              "    .dataframe tbody tr th {\n",
              "        vertical-align: top;\n",
              "    }\n",
              "\n",
              "    .dataframe thead th {\n",
              "        text-align: right;\n",
              "    }\n",
              "</style>\n",
              "<table border=\"1\" class=\"dataframe\">\n",
              "  <thead>\n",
              "    <tr style=\"text-align: right;\">\n",
              "      <th></th>\n",
              "      <th>PassengerId</th>\n",
              "      <th>Survived</th>\n",
              "      <th>Pclass</th>\n",
              "      <th>Age</th>\n",
              "      <th>SibSp</th>\n",
              "      <th>Parch</th>\n",
              "      <th>Fare</th>\n",
              "    </tr>\n",
              "  </thead>\n",
              "  <tbody>\n",
              "    <tr>\n",
              "      <th>count</th>\n",
              "      <td>891.000000</td>\n",
              "      <td>891.000000</td>\n",
              "      <td>891.000000</td>\n",
              "      <td>714.000000</td>\n",
              "      <td>891.000000</td>\n",
              "      <td>891.000000</td>\n",
              "      <td>891.000000</td>\n",
              "    </tr>\n",
              "    <tr>\n",
              "      <th>mean</th>\n",
              "      <td>446.000000</td>\n",
              "      <td>0.383838</td>\n",
              "      <td>2.308642</td>\n",
              "      <td>29.699118</td>\n",
              "      <td>0.523008</td>\n",
              "      <td>0.381594</td>\n",
              "      <td>32.204208</td>\n",
              "    </tr>\n",
              "    <tr>\n",
              "      <th>std</th>\n",
              "      <td>257.353842</td>\n",
              "      <td>0.486592</td>\n",
              "      <td>0.836071</td>\n",
              "      <td>14.526497</td>\n",
              "      <td>1.102743</td>\n",
              "      <td>0.806057</td>\n",
              "      <td>49.693429</td>\n",
              "    </tr>\n",
              "    <tr>\n",
              "      <th>min</th>\n",
              "      <td>1.000000</td>\n",
              "      <td>0.000000</td>\n",
              "      <td>1.000000</td>\n",
              "      <td>0.420000</td>\n",
              "      <td>0.000000</td>\n",
              "      <td>0.000000</td>\n",
              "      <td>0.000000</td>\n",
              "    </tr>\n",
              "    <tr>\n",
              "      <th>25%</th>\n",
              "      <td>223.500000</td>\n",
              "      <td>0.000000</td>\n",
              "      <td>2.000000</td>\n",
              "      <td>20.125000</td>\n",
              "      <td>0.000000</td>\n",
              "      <td>0.000000</td>\n",
              "      <td>7.910400</td>\n",
              "    </tr>\n",
              "    <tr>\n",
              "      <th>50%</th>\n",
              "      <td>446.000000</td>\n",
              "      <td>0.000000</td>\n",
              "      <td>3.000000</td>\n",
              "      <td>28.000000</td>\n",
              "      <td>0.000000</td>\n",
              "      <td>0.000000</td>\n",
              "      <td>14.454200</td>\n",
              "    </tr>\n",
              "    <tr>\n",
              "      <th>75%</th>\n",
              "      <td>668.500000</td>\n",
              "      <td>1.000000</td>\n",
              "      <td>3.000000</td>\n",
              "      <td>38.000000</td>\n",
              "      <td>1.000000</td>\n",
              "      <td>0.000000</td>\n",
              "      <td>31.000000</td>\n",
              "    </tr>\n",
              "    <tr>\n",
              "      <th>max</th>\n",
              "      <td>891.000000</td>\n",
              "      <td>1.000000</td>\n",
              "      <td>3.000000</td>\n",
              "      <td>80.000000</td>\n",
              "      <td>8.000000</td>\n",
              "      <td>6.000000</td>\n",
              "      <td>512.329200</td>\n",
              "    </tr>\n",
              "  </tbody>\n",
              "</table>\n",
              "</div>"
            ],
            "text/plain": [
              "       PassengerId    Survived      Pclass  ...       SibSp       Parch        Fare\n",
              "count   891.000000  891.000000  891.000000  ...  891.000000  891.000000  891.000000\n",
              "mean    446.000000    0.383838    2.308642  ...    0.523008    0.381594   32.204208\n",
              "std     257.353842    0.486592    0.836071  ...    1.102743    0.806057   49.693429\n",
              "min       1.000000    0.000000    1.000000  ...    0.000000    0.000000    0.000000\n",
              "25%     223.500000    0.000000    2.000000  ...    0.000000    0.000000    7.910400\n",
              "50%     446.000000    0.000000    3.000000  ...    0.000000    0.000000   14.454200\n",
              "75%     668.500000    1.000000    3.000000  ...    1.000000    0.000000   31.000000\n",
              "max     891.000000    1.000000    3.000000  ...    8.000000    6.000000  512.329200\n",
              "\n",
              "[8 rows x 7 columns]"
            ]
          },
          "metadata": {
            "tags": []
          },
          "execution_count": 12
        }
      ]
    },
    {
      "cell_type": "code",
      "metadata": {
        "id": "agj2CRvGRoO2",
        "outputId": "24ed8409-2978-4ed2-a781-9a77953b2c24"
      },
      "source": [
        "train.info()"
      ],
      "execution_count": null,
      "outputs": [
        {
          "output_type": "stream",
          "text": [
            "<class 'pandas.core.frame.DataFrame'>\n",
            "RangeIndex: 891 entries, 0 to 890\n",
            "Data columns (total 12 columns):\n",
            " #   Column       Non-Null Count  Dtype  \n",
            "---  ------       --------------  -----  \n",
            " 0   PassengerId  891 non-null    int64  \n",
            " 1   Survived     891 non-null    int64  \n",
            " 2   Pclass       891 non-null    int64  \n",
            " 3   Name         891 non-null    object \n",
            " 4   Sex          891 non-null    object \n",
            " 5   Age          714 non-null    float64\n",
            " 6   SibSp        891 non-null    int64  \n",
            " 7   Parch        891 non-null    int64  \n",
            " 8   Ticket       891 non-null    object \n",
            " 9   Fare         891 non-null    float64\n",
            " 10  Cabin        204 non-null    object \n",
            " 11  Embarked     889 non-null    object \n",
            "dtypes: float64(2), int64(5), object(5)\n",
            "memory usage: 83.7+ KB\n"
          ],
          "name": "stdout"
        }
      ]
    },
    {
      "cell_type": "markdown",
      "metadata": {
        "id": "umX-NbDMRoO3"
      },
      "source": [
        "### 2. Sus out data / EDA"
      ]
    },
    {
      "cell_type": "markdown",
      "metadata": {
        "id": "PfL6BGEwRoO3"
      },
      "source": [
        "**Data dictionary**\n",
        "![image.png](attachment:image.png)"
      ]
    },
    {
      "cell_type": "markdown",
      "metadata": {
        "id": "n0jDcB0pRoO4"
      },
      "source": [
        "**Variable Notes**\n",
        "\n",
        "pclass: A proxy for socio-economic status (SES)\n",
        "1st = Upper\n",
        "2nd = Middle\n",
        "3rd = Lower\n",
        "\n",
        "age: Age is fractional if less than 1. If the age is estimated, is it in the form of xx.5\n",
        "\n",
        "sibsp: The dataset defines family relations in this way...\n",
        "Sibling = brother, sister, stepbrother, stepsister\n",
        "Spouse = husband, wife (mistresses and fiancés were ignored)\n",
        "\n",
        "parch: The dataset defines family relations in this way...\n",
        "Parent = mother, father\n",
        "Child = daughter, son, stepdaughter, stepson\n",
        "Some children travelled only with a nanny, therefore parch=0 for them."
      ]
    },
    {
      "cell_type": "code",
      "metadata": {
        "id": "l4cWRufARoO5",
        "outputId": "c47bddaa-8d83-462b-a997-a6ae24b0a60e"
      },
      "source": [
        "import matplotlib.pyplot as plt\n",
        "plt.rcParams[\"figure.figsize\"] = (20, 10) # set default fig size\n",
        "\n",
        "train.hist()"
      ],
      "execution_count": null,
      "outputs": [
        {
          "output_type": "execute_result",
          "data": {
            "text/plain": [
              "array([[<AxesSubplot:title={'center':'PassengerId'}>,\n",
              "        <AxesSubplot:title={'center':'Survived'}>,\n",
              "        <AxesSubplot:title={'center':'Pclass'}>],\n",
              "       [<AxesSubplot:title={'center':'Age'}>,\n",
              "        <AxesSubplot:title={'center':'SibSp'}>,\n",
              "        <AxesSubplot:title={'center':'Parch'}>],\n",
              "       [<AxesSubplot:title={'center':'Fare'}>, <AxesSubplot:>,\n",
              "        <AxesSubplot:>]], dtype=object)"
            ]
          },
          "metadata": {
            "tags": []
          },
          "execution_count": 20
        },
        {
          "output_type": "display_data",
          "data": {
            "image/png": "[encoded data removed]",
            "text/plain": [
              "<Figure size 1440x720 with 9 Axes>"
            ]
          },
          "metadata": {
            "tags": [],
            "needs_background": "light"
          }
        }
      ]
    },
    {
      "cell_type": "code",
      "metadata": {
        "id": "PJ-lPtxFRoO5",
        "outputId": "0c5c39df-1f68-4e65-f0db-8e134a08f00f"
      },
      "source": [
        "# Look at correlations - Pclass and Fare look like stand-outs with Survived\n",
        "train.corr()"
      ],
      "execution_count": null,
      "outputs": [
        {
          "output_type": "execute_result",
          "data": {
            "text/html": [
              "<div>\n",
              "<style scoped>\n",
              "    .dataframe tbody tr th:only-of-type {\n",
              "        vertical-align: middle;\n",
              "    }\n",
              "\n",
              "    .dataframe tbody tr th {\n",
              "        vertical-align: top;\n",
              "    }\n",
              "\n",
              "    .dataframe thead th {\n",
              "        text-align: right;\n",
              "    }\n",
              "</style>\n",
              "<table border=\"1\" class=\"dataframe\">\n",
              "  <thead>\n",
              "    <tr style=\"text-align: right;\">\n",
              "      <th></th>\n",
              "      <th>PassengerId</th>\n",
              "      <th>Survived</th>\n",
              "      <th>Pclass</th>\n",
              "      <th>Age</th>\n",
              "      <th>SibSp</th>\n",
              "      <th>Parch</th>\n",
              "      <th>Fare</th>\n",
              "    </tr>\n",
              "  </thead>\n",
              "  <tbody>\n",
              "    <tr>\n",
              "      <th>PassengerId</th>\n",
              "      <td>1.000000</td>\n",
              "      <td>-0.005007</td>\n",
              "      <td>-0.035144</td>\n",
              "      <td>0.036847</td>\n",
              "      <td>-0.057527</td>\n",
              "      <td>-0.001652</td>\n",
              "      <td>0.012658</td>\n",
              "    </tr>\n",
              "    <tr>\n",
              "      <th>Survived</th>\n",
              "      <td>-0.005007</td>\n",
              "      <td>1.000000</td>\n",
              "      <td>-0.338481</td>\n",
              "      <td>-0.077221</td>\n",
              "      <td>-0.035322</td>\n",
              "      <td>0.081629</td>\n",
              "      <td>0.257307</td>\n",
              "    </tr>\n",
              "    <tr>\n",
              "      <th>Pclass</th>\n",
              "      <td>-0.035144</td>\n",
              "      <td>-0.338481</td>\n",
              "      <td>1.000000</td>\n",
              "      <td>-0.369226</td>\n",
              "      <td>0.083081</td>\n",
              "      <td>0.018443</td>\n",
              "      <td>-0.549500</td>\n",
              "    </tr>\n",
              "    <tr>\n",
              "      <th>Age</th>\n",
              "      <td>0.036847</td>\n",
              "      <td>-0.077221</td>\n",
              "      <td>-0.369226</td>\n",
              "      <td>1.000000</td>\n",
              "      <td>-0.308247</td>\n",
              "      <td>-0.189119</td>\n",
              "      <td>0.096067</td>\n",
              "    </tr>\n",
              "    <tr>\n",
              "      <th>SibSp</th>\n",
              "      <td>-0.057527</td>\n",
              "      <td>-0.035322</td>\n",
              "      <td>0.083081</td>\n",
              "      <td>-0.308247</td>\n",
              "      <td>1.000000</td>\n",
              "      <td>0.414838</td>\n",
              "      <td>0.159651</td>\n",
              "    </tr>\n",
              "    <tr>\n",
              "      <th>Parch</th>\n",
              "      <td>-0.001652</td>\n",
              "      <td>0.081629</td>\n",
              "      <td>0.018443</td>\n",
              "      <td>-0.189119</td>\n",
              "      <td>0.414838</td>\n",
              "      <td>1.000000</td>\n",
              "      <td>0.216225</td>\n",
              "    </tr>\n",
              "    <tr>\n",
              "      <th>Fare</th>\n",
              "      <td>0.012658</td>\n",
              "      <td>0.257307</td>\n",
              "      <td>-0.549500</td>\n",
              "      <td>0.096067</td>\n",
              "      <td>0.159651</td>\n",
              "      <td>0.216225</td>\n",
              "      <td>1.000000</td>\n",
              "    </tr>\n",
              "  </tbody>\n",
              "</table>\n",
              "</div>"
            ],
            "text/plain": [
              "             PassengerId  Survived    Pclass       Age     SibSp     Parch  \\\n",
              "PassengerId     1.000000 -0.005007 -0.035144  0.036847 -0.057527 -0.001652   \n",
              "Survived       -0.005007  1.000000 -0.338481 -0.077221 -0.035322  0.081629   \n",
              "Pclass         -0.035144 -0.338481  1.000000 -0.369226  0.083081  0.018443   \n",
              "Age             0.036847 -0.077221 -0.369226  1.000000 -0.308247 -0.189119   \n",
              "SibSp          -0.057527 -0.035322  0.083081 -0.308247  1.000000  0.414838   \n",
              "Parch          -0.001652  0.081629  0.018443 -0.189119  0.414838  1.000000   \n",
              "Fare            0.012658  0.257307 -0.549500  0.096067  0.159651  0.216225   \n",
              "\n",
              "                 Fare  \n",
              "PassengerId  0.012658  \n",
              "Survived     0.257307  \n",
              "Pclass      -0.549500  \n",
              "Age          0.096067  \n",
              "SibSp        0.159651  \n",
              "Parch        0.216225  \n",
              "Fare         1.000000  "
            ]
          },
          "metadata": {
            "tags": []
          },
          "execution_count": 23
        }
      ]
    },
    {
      "cell_type": "code",
      "metadata": {
        "id": "4EtOADN-RoO6",
        "outputId": "923241d3-685e-463c-f39a-1eaa26391ae3"
      },
      "source": [
        "train.Survived.value_counts()\n",
        "train.Pclass.value_counts()\n",
        "train.Sex.value_counts()\n",
        "train.SibSp.value_counts()\n",
        "train.Parch.value_counts()"
      ],
      "execution_count": null,
      "outputs": [
        {
          "output_type": "execute_result",
          "data": {
            "text/plain": [
              "0    549\n",
              "1    342\n",
              "Name: Survived, dtype: int64"
            ]
          },
          "metadata": {
            "tags": []
          },
          "execution_count": 42
        },
        {
          "output_type": "execute_result",
          "data": {
            "text/plain": [
              "3    491\n",
              "1    216\n",
              "2    184\n",
              "Name: Pclass, dtype: int64"
            ]
          },
          "metadata": {
            "tags": []
          },
          "execution_count": 42
        },
        {
          "output_type": "execute_result",
          "data": {
            "text/plain": [
              "male      577\n",
              "female    314\n",
              "Name: Sex, dtype: int64"
            ]
          },
          "metadata": {
            "tags": []
          },
          "execution_count": 42
        },
        {
          "output_type": "execute_result",
          "data": {
            "text/plain": [
              "0    608\n",
              "1    209\n",
              "2     28\n",
              "4     18\n",
              "3     16\n",
              "8      7\n",
              "5      5\n",
              "Name: SibSp, dtype: int64"
            ]
          },
          "metadata": {
            "tags": []
          },
          "execution_count": 42
        },
        {
          "output_type": "execute_result",
          "data": {
            "text/plain": [
              "0    678\n",
              "1    118\n",
              "2     80\n",
              "3      5\n",
              "5      5\n",
              "4      4\n",
              "6      1\n",
              "Name: Parch, dtype: int64"
            ]
          },
          "metadata": {
            "tags": []
          },
          "execution_count": 42
        }
      ]
    },
    {
      "cell_type": "code",
      "metadata": {
        "id": "81CWrdnkRoO7",
        "outputId": "106495a4-b1b0-4ca1-e3cf-913dd5b73342"
      },
      "source": [
        "train.Embarked.value_counts()"
      ],
      "execution_count": null,
      "outputs": [
        {
          "output_type": "execute_result",
          "data": {
            "text/plain": [
              "S    644\n",
              "C    168\n",
              "Q     77\n",
              "Name: Embarked, dtype: int64"
            ]
          },
          "metadata": {
            "tags": []
          },
          "execution_count": 45
        }
      ]
    },
    {
      "cell_type": "markdown",
      "metadata": {
        "id": "yUyHY5hZRoO7"
      },
      "source": [
        "### 2. Prepare Data"
      ]
    },
    {
      "cell_type": "markdown",
      "metadata": {
        "id": "dEDY3E-zRoO8"
      },
      "source": [
        "Data preparation steps:\n",
        "* Handle missing values\n",
        "* Handle categorical features\n",
        "* Scale numerical features\n",
        "\n",
        "Methods:\n",
        "1. ColumnTransformer\n",
        "2. CustomTransformers with DFFeatureUnion\n",
        "\n",
        "RobustScaler or StandardScaler?"
      ]
    },
    {
      "cell_type": "code",
      "metadata": {
        "colab": {
          "base_uri": "https://localhost:8080/",
          "height": 49
        },
        "id": "DKFf-pNARoO8",
        "outputId": "ebaff676-82ae-4b7e-a020-faa72c571c22"
      },
      "source": [
        "# Missing values\n",
        "train.loc[train.Age.isna()]"
      ],
      "execution_count": null,
      "outputs": [
        {
          "output_type": "execute_result",
          "data": {
            "text/html": [
              "<div>\n",
              "<style scoped>\n",
              "    .dataframe tbody tr th:only-of-type {\n",
              "        vertical-align: middle;\n",
              "    }\n",
              "\n",
              "    .dataframe tbody tr th {\n",
              "        vertical-align: top;\n",
              "    }\n",
              "\n",
              "    .dataframe thead th {\n",
              "        text-align: right;\n",
              "    }\n",
              "</style>\n",
              "<table border=\"1\" class=\"dataframe\">\n",
              "  <thead>\n",
              "    <tr style=\"text-align: right;\">\n",
              "      <th></th>\n",
              "      <th>PassengerId</th>\n",
              "      <th>Survived</th>\n",
              "      <th>Pclass</th>\n",
              "      <th>Name</th>\n",
              "      <th>Sex</th>\n",
              "      <th>Age</th>\n",
              "      <th>SibSp</th>\n",
              "      <th>Parch</th>\n",
              "      <th>Ticket</th>\n",
              "      <th>Fare</th>\n",
              "      <th>Cabin</th>\n",
              "      <th>Embarked</th>\n",
              "      <th>S</th>\n",
              "      <th>C</th>\n",
              "      <th>Q</th>\n",
              "    </tr>\n",
              "  </thead>\n",
              "  <tbody>\n",
              "  </tbody>\n",
              "</table>\n",
              "</div>"
            ],
            "text/plain": [
              "Empty DataFrame\n",
              "Columns: [PassengerId, Survived, Pclass, Name, Sex, Age, SibSp, Parch, Ticket, Fare, Cabin, Embarked, S, C, Q]\n",
              "Index: []"
            ]
          },
          "metadata": {
            "tags": []
          },
          "execution_count": 41
        }
      ]
    },
    {
      "cell_type": "code",
      "metadata": {
        "id": "f5sp-noYRoO9",
        "outputId": "34c34dbb-7eba-49a3-f18f-486f22df6ec3"
      },
      "source": [
        "train.loc[train.Embarked.isna()]"
      ],
      "execution_count": null,
      "outputs": [
        {
          "output_type": "execute_result",
          "data": {
            "text/html": [
              "<div>\n",
              "<style scoped>\n",
              "    .dataframe tbody tr th:only-of-type {\n",
              "        vertical-align: middle;\n",
              "    }\n",
              "\n",
              "    .dataframe tbody tr th {\n",
              "        vertical-align: top;\n",
              "    }\n",
              "\n",
              "    .dataframe thead th {\n",
              "        text-align: right;\n",
              "    }\n",
              "</style>\n",
              "<table border=\"1\" class=\"dataframe\">\n",
              "  <thead>\n",
              "    <tr style=\"text-align: right;\">\n",
              "      <th></th>\n",
              "      <th>PassengerId</th>\n",
              "      <th>Survived</th>\n",
              "      <th>Pclass</th>\n",
              "      <th>Name</th>\n",
              "      <th>Sex</th>\n",
              "      <th>Age</th>\n",
              "      <th>SibSp</th>\n",
              "      <th>Parch</th>\n",
              "      <th>Ticket</th>\n",
              "      <th>Fare</th>\n",
              "      <th>Cabin</th>\n",
              "      <th>Embarked</th>\n",
              "    </tr>\n",
              "  </thead>\n",
              "  <tbody>\n",
              "    <tr>\n",
              "      <th>61</th>\n",
              "      <td>62</td>\n",
              "      <td>1</td>\n",
              "      <td>1</td>\n",
              "      <td>Icard, Miss. Amelie</td>\n",
              "      <td>female</td>\n",
              "      <td>38.0</td>\n",
              "      <td>0</td>\n",
              "      <td>0</td>\n",
              "      <td>113572</td>\n",
              "      <td>80.0</td>\n",
              "      <td>B28</td>\n",
              "      <td>NaN</td>\n",
              "    </tr>\n",
              "    <tr>\n",
              "      <th>829</th>\n",
              "      <td>830</td>\n",
              "      <td>1</td>\n",
              "      <td>1</td>\n",
              "      <td>Stone, Mrs. George Nelson (Martha Evelyn)</td>\n",
              "      <td>female</td>\n",
              "      <td>62.0</td>\n",
              "      <td>0</td>\n",
              "      <td>0</td>\n",
              "      <td>113572</td>\n",
              "      <td>80.0</td>\n",
              "      <td>B28</td>\n",
              "      <td>NaN</td>\n",
              "    </tr>\n",
              "  </tbody>\n",
              "</table>\n",
              "</div>"
            ],
            "text/plain": [
              "     PassengerId  Survived  Pclass                                       Name  \\\n",
              "61            62         1       1                        Icard, Miss. Amelie   \n",
              "829          830         1       1  Stone, Mrs. George Nelson (Martha Evelyn)   \n",
              "\n",
              "        Sex   Age  SibSp  Parch  Ticket  Fare Cabin Embarked  \n",
              "61   female  38.0      0      0  113572  80.0   B28      NaN  \n",
              "829  female  62.0      0      0  113572  80.0   B28      NaN  "
            ]
          },
          "metadata": {
            "tags": []
          },
          "execution_count": 73
        }
      ]
    },
    {
      "cell_type": "code",
      "metadata": {
        "id": "IFyr3lf0RoO9"
      },
      "source": [
        "# Passenger class - keep as ordinal or one-hot encode?"
      ],
      "execution_count": null,
      "outputs": []
    },
    {
      "cell_type": "code",
      "metadata": {
        "id": "-5xstzJnRoO-"
      },
      "source": [
        "# Parch - 0 and >=1 - number - one hot encode"
      ],
      "execution_count": null,
      "outputs": []
    },
    {
      "cell_type": "code",
      "metadata": {
        "colab": {
          "base_uri": "https://localhost:8080/"
        },
        "id": "hEO3STOdlyyV",
        "outputId": "d9a20420-c4a0-4b3d-ad8e-eb8cb18d40d9"
      },
      "source": [
        "train.Age[~train.Age.isna()]"
      ],
      "execution_count": null,
      "outputs": [
        {
          "output_type": "execute_result",
          "data": {
            "text/plain": [
              "0     -0.565419\n",
              "1      0.663488\n",
              "2     -0.258192\n",
              "3      0.433068\n",
              "4      0.433068\n",
              "         ...   \n",
              "886   -0.181385\n",
              "887   -0.795839\n",
              "888   -0.104579\n",
              "889   -0.258192\n",
              "890    0.202648\n",
              "Name: Age, Length: 891, dtype: float64"
            ]
          },
          "metadata": {
            "tags": []
          },
          "execution_count": 44
        }
      ]
    },
    {
      "cell_type": "code",
      "metadata": {
        "id": "K7OlaHqMljJf"
      },
      "source": [
        "# Age to be used in ColumnTransformer (extracts 'Age' as a series already)\n",
        "from sklearn.base import BaseEstimator, TransformerMixin\n",
        "\n",
        "class AgeTransformer(BaseEstimator, TransformerMixin):\n",
        "    def __init__(self, standard_scale=True):\n",
        "        self.standard_scale = standard_scale # set toggle for scaling or not\n",
        "        \n",
        "    def impute_na(self, X):\n",
        "        X[X.isna()] = self.median # impute missing values with fitted median (from training data) - potentially group by Pclass\n",
        "        return X\n",
        "        \n",
        "    def fit(self, X, y=None):\n",
        "        self.median = X.median() # save median as class attribute\n",
        "\n",
        "        if self.standard_scale:\n",
        "            self.mean = X.mean() # fit mean and std from training data\n",
        "            self.std = X.std()\n",
        "\n",
        "        return self\n",
        "            \n",
        "    def transform(self, X):\n",
        "        X = self.impute_na(X)\n",
        "        \n",
        "        if self.standard_scale:\n",
        "            X = (X - self.mean)/self.std\n",
        "            \n",
        "        return pd.DataFrame(X, columns=['Age']) # as DF to fit ColTransformer reqt"
      ],
      "execution_count": 5,
      "outputs": []
    },
    {
      "cell_type": "code",
      "metadata": {
        "id": "eVyypERGRoO_"
      },
      "source": [
        "# bucket or scale fare"
      ],
      "execution_count": null,
      "outputs": []
    },
    {
      "cell_type": "code",
      "metadata": {
        "colab": {
          "base_uri": "https://localhost:8080/"
        },
        "id": "X0r7vjkjhV_K",
        "outputId": "b22ca4e5-6dcd-4c37-80e2-620d6fff84d2"
      },
      "source": [
        "train.Embarked.value_counts()"
      ],
      "execution_count": null,
      "outputs": [
        {
          "output_type": "execute_result",
          "data": {
            "text/plain": [
              "S    644\n",
              "C    168\n",
              "Q     77\n",
              "Name: Embarked, dtype: int64"
            ]
          },
          "metadata": {
            "tags": []
          },
          "execution_count": 40
        }
      ]
    },
    {
      "cell_type": "code",
      "metadata": {
        "id": "0k0eS6tugv9I"
      },
      "source": [
        "# Transform Embarked to be used in ColumnTransformer (extracts 'Embarked' as a series already)\n",
        "\n",
        "class EmbarkedTransformer(BaseEstimator, TransformerMixin):\n",
        "  def __init__(self):\n",
        "    None\n",
        "  \n",
        "  def fit(self, X):\n",
        "    self.mode = X.mode()[0] # get mode from training set\n",
        "    return self\n",
        "\n",
        "  def impute_na(self, X):\n",
        "    X[X.isna()] = self.mode # impute missing values with mode - S\n",
        "    return X\n",
        "\n",
        "  def onehot(self, X):\n",
        "    X_df = pd.DataFrame(X, columns=['Embarked'])\n",
        "    X_df['S'] = X_df.Embarked.map({'S': 1, 'C': 0, 'Q': 0}) # one-hot encode\n",
        "    X_df['C'] = X_df.Embarked.map({'S': 0, 'C': 1, 'Q': 0})\n",
        "    X_df['Q'] = X_df.Embarked.map({'S': 0, 'C': 0, 'Q': 1})\n",
        "    return X_df\n",
        "\n",
        "  def transform(self, X):\n",
        "    X = self.impute_na(X)\n",
        "    X = self.onehot(X)\n",
        "    X = X.drop('Embarked', axis=1)\n",
        "    return X"
      ],
      "execution_count": 6,
      "outputs": []
    },
    {
      "cell_type": "code",
      "metadata": {
        "colab": {
          "base_uri": "https://localhost:8080/",
          "height": 382
        },
        "id": "gGaKovaz_kBh",
        "outputId": "207c26b4-3b0e-44f1-83de-0d03eda2bcc1"
      },
      "source": [
        "test = EmbarkedTransformer()\n",
        "test.fit_transform(train.Embarked).describe()\n",
        "# test.fit_transform(train.Embarked).loc[test.fit_transform(train.Embarked).S.isna()]"
      ],
      "execution_count": null,
      "outputs": [
        {
          "output_type": "stream",
          "text": [
            "/usr/local/lib/python3.7/dist-packages/ipykernel_launcher.py:12: SettingWithCopyWarning: \n",
            "A value is trying to be set on a copy of a slice from a DataFrame\n",
            "\n",
            "See the caveats in the documentation: https://pandas.pydata.org/pandas-docs/stable/user_guide/indexing.html#returning-a-view-versus-a-copy\n",
            "  if sys.path[0] == '':\n"
          ],
          "name": "stderr"
        },
        {
          "output_type": "execute_result",
          "data": {
            "text/html": [
              "<div>\n",
              "<style scoped>\n",
              "    .dataframe tbody tr th:only-of-type {\n",
              "        vertical-align: middle;\n",
              "    }\n",
              "\n",
              "    .dataframe tbody tr th {\n",
              "        vertical-align: top;\n",
              "    }\n",
              "\n",
              "    .dataframe thead th {\n",
              "        text-align: right;\n",
              "    }\n",
              "</style>\n",
              "<table border=\"1\" class=\"dataframe\">\n",
              "  <thead>\n",
              "    <tr style=\"text-align: right;\">\n",
              "      <th></th>\n",
              "      <th>S</th>\n",
              "      <th>C</th>\n",
              "      <th>Q</th>\n",
              "    </tr>\n",
              "  </thead>\n",
              "  <tbody>\n",
              "    <tr>\n",
              "      <th>count</th>\n",
              "      <td>891.000000</td>\n",
              "      <td>891.000000</td>\n",
              "      <td>891.000000</td>\n",
              "    </tr>\n",
              "    <tr>\n",
              "      <th>mean</th>\n",
              "      <td>0.725028</td>\n",
              "      <td>0.188552</td>\n",
              "      <td>0.086420</td>\n",
              "    </tr>\n",
              "    <tr>\n",
              "      <th>std</th>\n",
              "      <td>0.446751</td>\n",
              "      <td>0.391372</td>\n",
              "      <td>0.281141</td>\n",
              "    </tr>\n",
              "    <tr>\n",
              "      <th>min</th>\n",
              "      <td>0.000000</td>\n",
              "      <td>0.000000</td>\n",
              "      <td>0.000000</td>\n",
              "    </tr>\n",
              "    <tr>\n",
              "      <th>25%</th>\n",
              "      <td>0.000000</td>\n",
              "      <td>0.000000</td>\n",
              "      <td>0.000000</td>\n",
              "    </tr>\n",
              "    <tr>\n",
              "      <th>50%</th>\n",
              "      <td>1.000000</td>\n",
              "      <td>0.000000</td>\n",
              "      <td>0.000000</td>\n",
              "    </tr>\n",
              "    <tr>\n",
              "      <th>75%</th>\n",
              "      <td>1.000000</td>\n",
              "      <td>0.000000</td>\n",
              "      <td>0.000000</td>\n",
              "    </tr>\n",
              "    <tr>\n",
              "      <th>max</th>\n",
              "      <td>1.000000</td>\n",
              "      <td>1.000000</td>\n",
              "      <td>1.000000</td>\n",
              "    </tr>\n",
              "  </tbody>\n",
              "</table>\n",
              "</div>"
            ],
            "text/plain": [
              "                S           C           Q\n",
              "count  891.000000  891.000000  891.000000\n",
              "mean     0.725028    0.188552    0.086420\n",
              "std      0.446751    0.391372    0.281141\n",
              "min      0.000000    0.000000    0.000000\n",
              "25%      0.000000    0.000000    0.000000\n",
              "50%      1.000000    0.000000    0.000000\n",
              "75%      1.000000    0.000000    0.000000\n",
              "max      1.000000    1.000000    1.000000"
            ]
          },
          "metadata": {
            "tags": []
          },
          "execution_count": 92
        }
      ]
    },
    {
      "cell_type": "code",
      "metadata": {
        "colab": {
          "base_uri": "https://localhost:8080/"
        },
        "id": "uy-6NnhBRoPA",
        "outputId": "941aa3c9-0e14-4f2d-a9ce-4415530880a5"
      },
      "source": [
        "# Define preparation pipeline\n",
        "from sklearn.compose import ColumnTransformer\n",
        "from sklearn.preprocessing import StandardScaler\n",
        "from sklearn.preprocessing import OneHotEncoder\n",
        "\n",
        "num_cols = ['Pclass', 'SibSp', 'Fare', 'Parch']\n",
        "cat_cols = ['Sex']\n",
        "\n",
        "prep_pipeline = ColumnTransformer([\n",
        "    ('age', AgeTransformer(), 'Age'), # apply custom trans to Age\n",
        "    ('num_cols', StandardScaler(), num_cols), # apply simple scaling to num cols\n",
        "    ('embarked', EmbarkedTransformer(), 'Embarked'), # apply custom trans to Embarked\n",
        "    ('cat_cols', OneHotEncoder(), cat_cols) # one hot encode Sex\n",
        "    # ('do nothing', 'passthrough', ['Pclass'])\n",
        "])\n",
        "\n",
        "# Prepare features into training array\n",
        "X_train = prep_pipeline.fit_transform(train)"
      ],
      "execution_count": 7,
      "outputs": [
        {
          "output_type": "stream",
          "text": [
            "/usr/local/lib/python3.7/dist-packages/ipykernel_launcher.py:9: SettingWithCopyWarning: \n",
            "A value is trying to be set on a copy of a slice from a DataFrame\n",
            "\n",
            "See the caveats in the documentation: https://pandas.pydata.org/pandas-docs/stable/user_guide/indexing.html#returning-a-view-versus-a-copy\n",
            "  if __name__ == '__main__':\n",
            "/usr/local/lib/python3.7/dist-packages/ipykernel_launcher.py:12: SettingWithCopyWarning: \n",
            "A value is trying to be set on a copy of a slice from a DataFrame\n",
            "\n",
            "See the caveats in the documentation: https://pandas.pydata.org/pandas-docs/stable/user_guide/indexing.html#returning-a-view-versus-a-copy\n",
            "  if sys.path[0] == '':\n"
          ],
          "name": "stderr"
        }
      ]
    },
    {
      "cell_type": "code",
      "metadata": {
        "colab": {
          "base_uri": "https://localhost:8080/"
        },
        "id": "HYWLChvE5v3E",
        "outputId": "29223fbd-9471-4700-e561-ad0092b83a8e"
      },
      "source": [
        "prep_pipeline.transformers_"
      ],
      "execution_count": null,
      "outputs": [
        {
          "output_type": "execute_result",
          "data": {
            "text/plain": [
              "[('age', AgeTransformer(standard_scale=True), 'Age'),\n",
              " ('embarked', EmbarkedTransformer(), 'Embarked'),\n",
              " ('num_cols',\n",
              "  StandardScaler(copy=True, with_mean=True, with_std=True),\n",
              "  ['Pclass', 'SibSp', 'Fare', 'Parch']),\n",
              " ('cat_cols',\n",
              "  OneHotEncoder(categories='auto', drop=None, dtype=<class 'numpy.float64'>,\n",
              "                handle_unknown='error', sparse=True),\n",
              "  ['Sex']),\n",
              " ('remainder', 'drop', [0, 1, 3, 8, 10])]"
            ]
          },
          "metadata": {
            "tags": []
          },
          "execution_count": 39
        }
      ]
    },
    {
      "cell_type": "code",
      "metadata": {
        "colab": {
          "base_uri": "https://localhost:8080/"
        },
        "id": "Rqw7T_jimMMr",
        "outputId": "a97678e6-0a20-4d9f-b54e-f953bc0f9bf5"
      },
      "source": [
        "train.shape\n",
        "X_train.shape"
      ],
      "execution_count": null,
      "outputs": [
        {
          "output_type": "execute_result",
          "data": {
            "text/plain": [
              "(891, 10)"
            ]
          },
          "metadata": {
            "tags": []
          },
          "execution_count": 53
        }
      ]
    },
    {
      "cell_type": "code",
      "metadata": {
        "colab": {
          "base_uri": "https://localhost:8080/",
          "height": 419
        },
        "id": "55Yl9P9Z5OGY",
        "outputId": "e89a2a5a-2753-4a04-8298-eadf3fcc63ac"
      },
      "source": [
        "# The order of the columns in the transformed feature matrix follows the order of how the columns are specified in the transformers list. \n",
        "# Those columns specified with passthrough are added at the right to the output of the transformers.\n",
        "# One-hot encoded output looks like it's in alphabetical order\n",
        "\n",
        "pd.DataFrame(X_train, columns=['Age', 'Pclass', 'SibSp', 'Fare', 'Parch','S', 'C', 'Q', 'Female', 'Male'])#.describe()"
      ],
      "execution_count": 8,
      "outputs": [
        {
          "output_type": "execute_result",
          "data": {
            "text/html": [
              "<div>\n",
              "<style scoped>\n",
              "    .dataframe tbody tr th:only-of-type {\n",
              "        vertical-align: middle;\n",
              "    }\n",
              "\n",
              "    .dataframe tbody tr th {\n",
              "        vertical-align: top;\n",
              "    }\n",
              "\n",
              "    .dataframe thead th {\n",
              "        text-align: right;\n",
              "    }\n",
              "</style>\n",
              "<table border=\"1\" class=\"dataframe\">\n",
              "  <thead>\n",
              "    <tr style=\"text-align: right;\">\n",
              "      <th></th>\n",
              "      <th>Age</th>\n",
              "      <th>Pclass</th>\n",
              "      <th>SibSp</th>\n",
              "      <th>Fare</th>\n",
              "      <th>Parch</th>\n",
              "      <th>S</th>\n",
              "      <th>C</th>\n",
              "      <th>Q</th>\n",
              "      <th>Female</th>\n",
              "      <th>Male</th>\n",
              "    </tr>\n",
              "  </thead>\n",
              "  <tbody>\n",
              "    <tr>\n",
              "      <th>0</th>\n",
              "      <td>-0.530005</td>\n",
              "      <td>0.827377</td>\n",
              "      <td>0.432793</td>\n",
              "      <td>-0.502445</td>\n",
              "      <td>-0.473674</td>\n",
              "      <td>1.0</td>\n",
              "      <td>0.0</td>\n",
              "      <td>0.0</td>\n",
              "      <td>0.0</td>\n",
              "      <td>1.0</td>\n",
              "    </tr>\n",
              "    <tr>\n",
              "      <th>1</th>\n",
              "      <td>0.571430</td>\n",
              "      <td>-1.566107</td>\n",
              "      <td>0.432793</td>\n",
              "      <td>0.786845</td>\n",
              "      <td>-0.473674</td>\n",
              "      <td>0.0</td>\n",
              "      <td>1.0</td>\n",
              "      <td>0.0</td>\n",
              "      <td>1.0</td>\n",
              "      <td>0.0</td>\n",
              "    </tr>\n",
              "    <tr>\n",
              "      <th>2</th>\n",
              "      <td>-0.254646</td>\n",
              "      <td>0.827377</td>\n",
              "      <td>-0.474545</td>\n",
              "      <td>-0.488854</td>\n",
              "      <td>-0.473674</td>\n",
              "      <td>1.0</td>\n",
              "      <td>0.0</td>\n",
              "      <td>0.0</td>\n",
              "      <td>1.0</td>\n",
              "      <td>0.0</td>\n",
              "    </tr>\n",
              "    <tr>\n",
              "      <th>3</th>\n",
              "      <td>0.364911</td>\n",
              "      <td>-1.566107</td>\n",
              "      <td>0.432793</td>\n",
              "      <td>0.420730</td>\n",
              "      <td>-0.473674</td>\n",
              "      <td>1.0</td>\n",
              "      <td>0.0</td>\n",
              "      <td>0.0</td>\n",
              "      <td>1.0</td>\n",
              "      <td>0.0</td>\n",
              "    </tr>\n",
              "    <tr>\n",
              "      <th>4</th>\n",
              "      <td>0.364911</td>\n",
              "      <td>0.827377</td>\n",
              "      <td>-0.474545</td>\n",
              "      <td>-0.486337</td>\n",
              "      <td>-0.473674</td>\n",
              "      <td>1.0</td>\n",
              "      <td>0.0</td>\n",
              "      <td>0.0</td>\n",
              "      <td>0.0</td>\n",
              "      <td>1.0</td>\n",
              "    </tr>\n",
              "    <tr>\n",
              "      <th>...</th>\n",
              "      <td>...</td>\n",
              "      <td>...</td>\n",
              "      <td>...</td>\n",
              "      <td>...</td>\n",
              "      <td>...</td>\n",
              "      <td>...</td>\n",
              "      <td>...</td>\n",
              "      <td>...</td>\n",
              "      <td>...</td>\n",
              "      <td>...</td>\n",
              "    </tr>\n",
              "    <tr>\n",
              "      <th>886</th>\n",
              "      <td>-0.185807</td>\n",
              "      <td>-0.369365</td>\n",
              "      <td>-0.474545</td>\n",
              "      <td>-0.386671</td>\n",
              "      <td>-0.473674</td>\n",
              "      <td>1.0</td>\n",
              "      <td>0.0</td>\n",
              "      <td>0.0</td>\n",
              "      <td>0.0</td>\n",
              "      <td>1.0</td>\n",
              "    </tr>\n",
              "    <tr>\n",
              "      <th>887</th>\n",
              "      <td>-0.736524</td>\n",
              "      <td>-1.566107</td>\n",
              "      <td>-0.474545</td>\n",
              "      <td>-0.044381</td>\n",
              "      <td>-0.473674</td>\n",
              "      <td>1.0</td>\n",
              "      <td>0.0</td>\n",
              "      <td>0.0</td>\n",
              "      <td>1.0</td>\n",
              "      <td>0.0</td>\n",
              "    </tr>\n",
              "    <tr>\n",
              "      <th>888</th>\n",
              "      <td>-0.116967</td>\n",
              "      <td>0.827377</td>\n",
              "      <td>0.432793</td>\n",
              "      <td>-0.176263</td>\n",
              "      <td>2.008933</td>\n",
              "      <td>1.0</td>\n",
              "      <td>0.0</td>\n",
              "      <td>0.0</td>\n",
              "      <td>1.0</td>\n",
              "      <td>0.0</td>\n",
              "    </tr>\n",
              "    <tr>\n",
              "      <th>889</th>\n",
              "      <td>-0.254646</td>\n",
              "      <td>-1.566107</td>\n",
              "      <td>-0.474545</td>\n",
              "      <td>-0.044381</td>\n",
              "      <td>-0.473674</td>\n",
              "      <td>0.0</td>\n",
              "      <td>1.0</td>\n",
              "      <td>0.0</td>\n",
              "      <td>0.0</td>\n",
              "      <td>1.0</td>\n",
              "    </tr>\n",
              "    <tr>\n",
              "      <th>890</th>\n",
              "      <td>0.158392</td>\n",
              "      <td>0.827377</td>\n",
              "      <td>-0.474545</td>\n",
              "      <td>-0.492378</td>\n",
              "      <td>-0.473674</td>\n",
              "      <td>0.0</td>\n",
              "      <td>0.0</td>\n",
              "      <td>1.0</td>\n",
              "      <td>0.0</td>\n",
              "      <td>1.0</td>\n",
              "    </tr>\n",
              "  </tbody>\n",
              "</table>\n",
              "<p>891 rows × 10 columns</p>\n",
              "</div>"
            ],
            "text/plain": [
              "          Age    Pclass     SibSp      Fare  ...    C    Q  Female  Male\n",
              "0   -0.530005  0.827377  0.432793 -0.502445  ...  0.0  0.0     0.0   1.0\n",
              "1    0.571430 -1.566107  0.432793  0.786845  ...  1.0  0.0     1.0   0.0\n",
              "2   -0.254646  0.827377 -0.474545 -0.488854  ...  0.0  0.0     1.0   0.0\n",
              "3    0.364911 -1.566107  0.432793  0.420730  ...  0.0  0.0     1.0   0.0\n",
              "4    0.364911  0.827377 -0.474545 -0.486337  ...  0.0  0.0     0.0   1.0\n",
              "..        ...       ...       ...       ...  ...  ...  ...     ...   ...\n",
              "886 -0.185807 -0.369365 -0.474545 -0.386671  ...  0.0  0.0     0.0   1.0\n",
              "887 -0.736524 -1.566107 -0.474545 -0.044381  ...  0.0  0.0     1.0   0.0\n",
              "888 -0.116967  0.827377  0.432793 -0.176263  ...  0.0  0.0     1.0   0.0\n",
              "889 -0.254646 -1.566107 -0.474545 -0.044381  ...  1.0  0.0     0.0   1.0\n",
              "890  0.158392  0.827377 -0.474545 -0.492378  ...  0.0  1.0     0.0   1.0\n",
              "\n",
              "[891 rows x 10 columns]"
            ]
          },
          "metadata": {
            "tags": []
          },
          "execution_count": 8
        }
      ]
    },
    {
      "cell_type": "code",
      "metadata": {
        "colab": {
          "base_uri": "https://localhost:8080/",
          "height": 142
        },
        "id": "yi7L8ZwN6iPU",
        "outputId": "9956d067-2e04-4e4b-b30d-e1a6e58ddab4"
      },
      "source": [
        "# Check transformation - OK!\n",
        "train.iloc[0:3]"
      ],
      "execution_count": null,
      "outputs": [
        {
          "output_type": "execute_result",
          "data": {
            "text/html": [
              "<div>\n",
              "<style scoped>\n",
              "    .dataframe tbody tr th:only-of-type {\n",
              "        vertical-align: middle;\n",
              "    }\n",
              "\n",
              "    .dataframe tbody tr th {\n",
              "        vertical-align: top;\n",
              "    }\n",
              "\n",
              "    .dataframe thead th {\n",
              "        text-align: right;\n",
              "    }\n",
              "</style>\n",
              "<table border=\"1\" class=\"dataframe\">\n",
              "  <thead>\n",
              "    <tr style=\"text-align: right;\">\n",
              "      <th></th>\n",
              "      <th>PassengerId</th>\n",
              "      <th>Survived</th>\n",
              "      <th>Pclass</th>\n",
              "      <th>Name</th>\n",
              "      <th>Sex</th>\n",
              "      <th>Age</th>\n",
              "      <th>SibSp</th>\n",
              "      <th>Parch</th>\n",
              "      <th>Ticket</th>\n",
              "      <th>Fare</th>\n",
              "      <th>Cabin</th>\n",
              "      <th>Embarked</th>\n",
              "    </tr>\n",
              "  </thead>\n",
              "  <tbody>\n",
              "    <tr>\n",
              "      <th>0</th>\n",
              "      <td>1</td>\n",
              "      <td>0</td>\n",
              "      <td>3</td>\n",
              "      <td>Braund, Mr. Owen Harris</td>\n",
              "      <td>male</td>\n",
              "      <td>22.0</td>\n",
              "      <td>1</td>\n",
              "      <td>0</td>\n",
              "      <td>A/5 21171</td>\n",
              "      <td>7.2500</td>\n",
              "      <td>NaN</td>\n",
              "      <td>S</td>\n",
              "    </tr>\n",
              "    <tr>\n",
              "      <th>1</th>\n",
              "      <td>2</td>\n",
              "      <td>1</td>\n",
              "      <td>1</td>\n",
              "      <td>Cumings, Mrs. John Bradley (Florence Briggs Th...</td>\n",
              "      <td>female</td>\n",
              "      <td>38.0</td>\n",
              "      <td>1</td>\n",
              "      <td>0</td>\n",
              "      <td>PC 17599</td>\n",
              "      <td>71.2833</td>\n",
              "      <td>C85</td>\n",
              "      <td>C</td>\n",
              "    </tr>\n",
              "    <tr>\n",
              "      <th>2</th>\n",
              "      <td>3</td>\n",
              "      <td>1</td>\n",
              "      <td>3</td>\n",
              "      <td>Heikkinen, Miss. Laina</td>\n",
              "      <td>female</td>\n",
              "      <td>26.0</td>\n",
              "      <td>0</td>\n",
              "      <td>0</td>\n",
              "      <td>STON/O2. 3101282</td>\n",
              "      <td>7.9250</td>\n",
              "      <td>NaN</td>\n",
              "      <td>S</td>\n",
              "    </tr>\n",
              "  </tbody>\n",
              "</table>\n",
              "</div>"
            ],
            "text/plain": [
              "   PassengerId  Survived  Pclass  ...     Fare Cabin  Embarked\n",
              "0            1         0       3  ...   7.2500   NaN         S\n",
              "1            2         1       1  ...  71.2833   C85         C\n",
              "2            3         1       3  ...   7.9250   NaN         S\n",
              "\n",
              "[3 rows x 12 columns]"
            ]
          },
          "metadata": {
            "tags": []
          },
          "execution_count": 52
        }
      ]
    },
    {
      "cell_type": "code",
      "metadata": {
        "id": "XaW9JG9aRoPB"
      },
      "source": [
        "# Define target vector\n",
        "y_train = train['Survived']"
      ],
      "execution_count": 8,
      "outputs": []
    },
    {
      "cell_type": "markdown",
      "metadata": {
        "id": "noMrUjDcRoPC"
      },
      "source": [
        "### 3. Select Models"
      ]
    },
    {
      "cell_type": "code",
      "metadata": {
        "colab": {
          "base_uri": "https://localhost:8080/"
        },
        "id": "Yi8Q87NYC6fx",
        "outputId": "14da6f8d-83a3-4636-c512-a6572623ee4e"
      },
      "source": [
        "y_train.value_counts()/len(y_train) "
      ],
      "execution_count": 45,
      "outputs": [
        {
          "output_type": "execute_result",
          "data": {
            "text/plain": [
              "0    0.616162\n",
              "1    0.383838\n",
              "Name: Survived, dtype: float64"
            ]
          },
          "metadata": {
            "tags": []
          },
          "execution_count": 45
        }
      ]
    },
    {
      "cell_type": "code",
      "metadata": {
        "id": "d2Gy8SyMRoPC"
      },
      "source": [
        "## Random Forest\n",
        "from sklearn.ensemble import RandomForestClassifier\n",
        "from sklearn.model_selection import cross_val_predict\n",
        "\n",
        "forest_clf = RandomForestClassifier(random_state=42)\n",
        "# cross_val_score(forest_clf, X_train, y_train, cv=3)\n",
        "y_forest_pred = cross_val_predict(forest_clf, X_train, y_train, cv=5)"
      ],
      "execution_count": 47,
      "outputs": []
    },
    {
      "cell_type": "code",
      "metadata": {
        "colab": {
          "base_uri": "https://localhost:8080/"
        },
        "id": "zv_B7-5ACR9Y",
        "outputId": "e2d19e30-b91c-46c5-f417-937e775c5766"
      },
      "source": [
        "from sklearn.metrics import confusion_matrix\n",
        "confusion_matrix(y_train, y_forest_pred)"
      ],
      "execution_count": 48,
      "outputs": [
        {
          "output_type": "execute_result",
          "data": {
            "text/plain": [
              "array([[471,  78],\n",
              "       [ 92, 250]])"
            ]
          },
          "metadata": {
            "tags": []
          },
          "execution_count": 48
        }
      ]
    },
    {
      "cell_type": "code",
      "metadata": {
        "colab": {
          "base_uri": "https://localhost:8080/"
        },
        "id": "xzWAx38zFFxP",
        "outputId": "c016844e-840c-472f-8e29-2fc742080c1d"
      },
      "source": [
        "from sklearn.metrics import classification_report\n",
        "\n",
        "print(classification_report(y_train, y_forest_pred))"
      ],
      "execution_count": 49,
      "outputs": [
        {
          "output_type": "stream",
          "text": [
            "              precision    recall  f1-score   support\n",
            "\n",
            "           0       0.84      0.86      0.85       549\n",
            "           1       0.76      0.73      0.75       342\n",
            "\n",
            "    accuracy                           0.81       891\n",
            "   macro avg       0.80      0.79      0.80       891\n",
            "weighted avg       0.81      0.81      0.81       891\n",
            "\n"
          ],
          "name": "stdout"
        }
      ]
    },
    {
      "cell_type": "code",
      "metadata": {
        "colab": {
          "base_uri": "https://localhost:8080/"
        },
        "id": "I8wVR4UzI_Ud",
        "outputId": "d7f9c671-e89c-4093-e349-f9acfd73afdd"
      },
      "source": [
        "from sklearn.model_selection import GridSearchCV\n",
        "\n",
        "param_grid = [\n",
        "  {'n_estimators': [120, 160, 200], 'max_features': [6, 7, 8]}\n",
        "]\n",
        "\n",
        "grid_search = GridSearchCV(forest_clf, param_grid, cv=5, \n",
        "                           scoring='f1', return_train_score=True)\n",
        "\n",
        "grid_search.fit(X_train, y_train)"
      ],
      "execution_count": 64,
      "outputs": [
        {
          "output_type": "execute_result",
          "data": {
            "text/plain": [
              "GridSearchCV(cv=5, error_score=nan,\n",
              "             estimator=RandomForestClassifier(bootstrap=True, ccp_alpha=0.0,\n",
              "                                              class_weight=None,\n",
              "                                              criterion='gini', max_depth=None,\n",
              "                                              max_features='auto',\n",
              "                                              max_leaf_nodes=None,\n",
              "                                              max_samples=None,\n",
              "                                              min_impurity_decrease=0.0,\n",
              "                                              min_impurity_split=None,\n",
              "                                              min_samples_leaf=1,\n",
              "                                              min_samples_split=2,\n",
              "                                              min_weight_fraction_leaf=0.0,\n",
              "                                              n_estimators=100, n_jobs=None,\n",
              "                                              oob_score=False, random_state=42,\n",
              "                                              verbose=0, warm_start=False),\n",
              "             iid='deprecated', n_jobs=None,\n",
              "             param_grid=[{'max_features': [6, 7, 8],\n",
              "                          'n_estimators': [120, 160, 200]}],\n",
              "             pre_dispatch='2*n_jobs', refit=True, return_train_score=True,\n",
              "             scoring='f1', verbose=0)"
            ]
          },
          "metadata": {
            "tags": []
          },
          "execution_count": 64
        }
      ]
    },
    {
      "cell_type": "code",
      "metadata": {
        "colab": {
          "base_uri": "https://localhost:8080/"
        },
        "id": "hPYYarotKo73",
        "outputId": "7552ac1d-ccaa-4f09-f626-e36e4d67e995"
      },
      "source": [
        "grid_search.best_params_\n",
        "\n",
        "cv_res = grid_search.cv_results_\n",
        "for mean_score, params in zip(cv_res['mean_test_score'], cv_res['params']):\n",
        "  print(mean_score, params)"
      ],
      "execution_count": 65,
      "outputs": [
        {
          "output_type": "execute_result",
          "data": {
            "text/plain": [
              "{'max_features': 7, 'n_estimators': 120}"
            ]
          },
          "metadata": {
            "tags": []
          },
          "execution_count": 65
        },
        {
          "output_type": "stream",
          "text": [
            "0.7496764037748018 {'max_features': 6, 'n_estimators': 120}\n",
            "0.7499025843573351 {'max_features': 6, 'n_estimators': 160}\n",
            "0.7498422683781789 {'max_features': 6, 'n_estimators': 200}\n",
            "0.7569004879096716 {'max_features': 7, 'n_estimators': 120}\n",
            "0.7503776329083964 {'max_features': 7, 'n_estimators': 160}\n",
            "0.7438041408094896 {'max_features': 7, 'n_estimators': 200}\n",
            "0.7495402468830411 {'max_features': 8, 'n_estimators': 120}\n",
            "0.751602199189765 {'max_features': 8, 'n_estimators': 160}\n",
            "0.7519901064673704 {'max_features': 8, 'n_estimators': 200}\n"
          ],
          "name": "stdout"
        }
      ]
    },
    {
      "cell_type": "code",
      "metadata": {
        "colab": {
          "base_uri": "https://localhost:8080/"
        },
        "id": "vqDb-N8jIqHJ",
        "outputId": "3cc61cc9-700a-4f50-fc18-d656ac0d5e38"
      },
      "source": [
        "grid_search.best_estimator_.feature_importances_"
      ],
      "execution_count": 66,
      "outputs": [
        {
          "output_type": "execute_result",
          "data": {
            "text/plain": [
              "array([0.24726834, 0.09650072, 0.0492863 , 0.24332231, 0.02629957,\n",
              "       0.01638417, 0.01103783, 0.00653634, 0.14333501, 0.16002942])"
            ]
          },
          "metadata": {
            "tags": []
          },
          "execution_count": 66
        }
      ]
    },
    {
      "cell_type": "code",
      "metadata": {
        "colab": {
          "base_uri": "https://localhost:8080/"
        },
        "id": "v2SDbrJKNido",
        "outputId": "286ee245-71a7-419b-cb2f-679c05a46def"
      },
      "source": [
        "# Fit Random Forest with tuned parameters\n",
        "forest_clf = RandomForestClassifier(max_features=7, n_estimators=120, random_state=42)\n",
        "forest_clf.fit(X_train, y_train)"
      ],
      "execution_count": 67,
      "outputs": [
        {
          "output_type": "execute_result",
          "data": {
            "text/plain": [
              "RandomForestClassifier(bootstrap=True, ccp_alpha=0.0, class_weight=None,\n",
              "                       criterion='gini', max_depth=None, max_features=7,\n",
              "                       max_leaf_nodes=None, max_samples=None,\n",
              "                       min_impurity_decrease=0.0, min_impurity_split=None,\n",
              "                       min_samples_leaf=1, min_samples_split=2,\n",
              "                       min_weight_fraction_leaf=0.0, n_estimators=120,\n",
              "                       n_jobs=None, oob_score=False, random_state=42, verbose=0,\n",
              "                       warm_start=False)"
            ]
          },
          "metadata": {
            "tags": []
          },
          "execution_count": 67
        },
        {
          "output_type": "execute_result",
          "data": {
            "text/plain": [
              "array([0.24726834, 0.09650072, 0.0492863 , 0.24332231, 0.02629957,\n",
              "       0.01638417, 0.01103783, 0.00653634, 0.14333501, 0.16002942])"
            ]
          },
          "metadata": {
            "tags": []
          },
          "execution_count": 67
        }
      ]
    },
    {
      "cell_type": "code",
      "metadata": {
        "colab": {
          "base_uri": "https://localhost:8080/"
        },
        "id": "kMi6l_J7N-H1",
        "outputId": "f7aeee96-6e2e-4e6d-a317-1b3f68bb2a4d"
      },
      "source": [
        "# Check in-sample metrics..\n",
        "y_pred = forest_clf.predict(X_train)\n",
        "\n",
        "confusion_matrix(y_train, y_pred)\n",
        "print('\\n',classification_report(y_train, y_pred))"
      ],
      "execution_count": 71,
      "outputs": [
        {
          "output_type": "execute_result",
          "data": {
            "text/plain": [
              "array([[545,   4],\n",
              "       [ 14, 328]])"
            ]
          },
          "metadata": {
            "tags": []
          },
          "execution_count": 71
        },
        {
          "output_type": "stream",
          "text": [
            "\n",
            "               precision    recall  f1-score   support\n",
            "\n",
            "           0       0.97      0.99      0.98       549\n",
            "           1       0.99      0.96      0.97       342\n",
            "\n",
            "    accuracy                           0.98       891\n",
            "   macro avg       0.98      0.98      0.98       891\n",
            "weighted avg       0.98      0.98      0.98       891\n",
            "\n"
          ],
          "name": "stdout"
        }
      ]
    },
    {
      "cell_type": "code",
      "metadata": {
        "colab": {
          "base_uri": "https://localhost:8080/"
        },
        "id": "5z85jFS9N8J_",
        "outputId": "a63e4b14-5e7e-4718-8766-c3be3b46391e"
      },
      "source": [
        "# Check feature importance\n",
        "sorted(zip(forest_clf.feature_importances_,\n",
        "           ['Age', 'Pclass', 'SibSp', 'Fare', 'Parch','S', 'C', 'Q', 'Female', 'Male']),\n",
        "       reverse=True)"
      ],
      "execution_count": 79,
      "outputs": [
        {
          "output_type": "execute_result",
          "data": {
            "text/plain": [
              "[(0.24726834134619272, 'Age'),\n",
              " (0.24332230850626713, 'Fare'),\n",
              " (0.16002941573453772, 'Male'),\n",
              " (0.14333500939971916, 'Female'),\n",
              " (0.09650071654526274, 'Pclass'),\n",
              " (0.04928629680869308, 'SibSp'),\n",
              " (0.026299571423686545, 'Parch'),\n",
              " (0.01638417155705921, 'S'),\n",
              " (0.011037828881581701, 'C'),\n",
              " (0.0065363397970000705, 'Q')]"
            ]
          },
          "metadata": {
            "tags": []
          },
          "execution_count": 79
        }
      ]
    },
    {
      "cell_type": "code",
      "metadata": {
        "colab": {
          "base_uri": "https://localhost:8080/",
          "height": 395
        },
        "id": "kC6NBUt8EEvP",
        "outputId": "51877f9a-afa9-4bb8-b646-67aa37dbb98e"
      },
      "source": [
        "# Compare with correlation\n",
        "import matplotlib.pyplot as plt\n",
        "import seaborn as sns\n",
        "\n",
        "plt.figure(figsize=(8, 6)) \n",
        "sns.heatmap(pd.concat([y_train, \n",
        "           pd.DataFrame(X_train, columns=['Age', 'Pclass', 'SibSp', 'Fare', 'Parch','S', 'C', 'Q', 'Female', 'Male'])], \n",
        "          axis=1).corr(),\n",
        "          annot=True,\n",
        "          cmap='coolwarm') # gender, Pclass look most important for Survived"
      ],
      "execution_count": 80,
      "outputs": [
        {
          "output_type": "execute_result",
          "data": {
            "text/plain": [
              "<Figure size 576x432 with 0 Axes>"
            ]
          },
          "metadata": {
            "tags": []
          },
          "execution_count": 80
        },
        {
          "output_type": "execute_result",
          "data": {
            "text/plain": [
              "<matplotlib.axes._subplots.AxesSubplot at 0x7f443bf01150>"
            ]
          },
          "metadata": {
            "tags": []
          },
          "execution_count": 80
        },
        {
          "output_type": "display_data",
          "data": {
            "image/png": "[encoded data removed]",
            "text/plain": [
              "<Figure size 576x432 with 2 Axes>"
            ]
          },
          "metadata": {
            "tags": [],
            "needs_background": "light"
          }
        }
      ]
    },
    {
      "cell_type": "code",
      "metadata": {
        "colab": {
          "base_uri": "https://localhost:8080/"
        },
        "id": "0Kpmj-QTHsVB",
        "outputId": "8ad9c9f5-6537-4fe0-96f6-8757839fce3d"
      },
      "source": [
        "## 2. Try GB\n",
        "from sklearn.ensemble import GradientBoostingClassifier\n",
        "\n",
        "gbc = GradientBoostingClassifier()\n",
        "parameters = {'learning_rate':[0.01, 0.05, 0.1, 0.5, 1], \n",
        "              'min_samples_split':[2,5,10,20], \n",
        "              'max_depth':[2,3,5,10]}\n",
        "\n",
        "grid_search = GridSearchCV(gbc, parameters, cv=5, \n",
        "                           scoring='f1', return_train_score=True)\n",
        "grid_search.fit(X_train, y_train)"
      ],
      "execution_count": 81,
      "outputs": [
        {
          "output_type": "execute_result",
          "data": {
            "text/plain": [
              "GridSearchCV(cv=5, error_score=nan,\n",
              "             estimator=GradientBoostingClassifier(ccp_alpha=0.0,\n",
              "                                                  criterion='friedman_mse',\n",
              "                                                  init=None, learning_rate=0.1,\n",
              "                                                  loss='deviance', max_depth=3,\n",
              "                                                  max_features=None,\n",
              "                                                  max_leaf_nodes=None,\n",
              "                                                  min_impurity_decrease=0.0,\n",
              "                                                  min_impurity_split=None,\n",
              "                                                  min_samples_leaf=1,\n",
              "                                                  min_samples_split=2,\n",
              "                                                  min_weight_fraction_leaf=0.0,\n",
              "                                                  n_estimators=100,\n",
              "                                                  n_iter_no_change=None,\n",
              "                                                  presort='deprecated',\n",
              "                                                  random_state=None,\n",
              "                                                  subsample=1.0, tol=0.0001,\n",
              "                                                  validation_fraction=0.1,\n",
              "                                                  verbose=0, warm_start=False),\n",
              "             iid='deprecated', n_jobs=None,\n",
              "             param_grid={'learning_rate': [0.01, 0.05, 0.1, 0.5, 1],\n",
              "                         'max_depth': [2, 3, 5, 10],\n",
              "                         'min_samples_split': [2, 5, 10, 20]},\n",
              "             pre_dispatch='2*n_jobs', refit=True, return_train_score=True,\n",
              "             scoring='f1', verbose=0)"
            ]
          },
          "metadata": {
            "tags": []
          },
          "execution_count": 81
        }
      ]
    },
    {
      "cell_type": "code",
      "metadata": {
        "colab": {
          "base_uri": "https://localhost:8080/"
        },
        "id": "W9MbjW5uQl0H",
        "outputId": "acaed041-1f21-4005-b3d2-fb5df4381b36"
      },
      "source": [
        "grid_search.best_params_\n",
        "\n",
        "# cv_res = grid_search.cv_results_\n",
        "# for mean_score, params in zip(cv_res['mean_test_score'], cv_res['params']):\n",
        "#   print(mean_score, params)"
      ],
      "execution_count": 83,
      "outputs": [
        {
          "output_type": "execute_result",
          "data": {
            "text/plain": [
              "{'learning_rate': 0.1, 'max_depth': 5, 'min_samples_split': 2}"
            ]
          },
          "metadata": {
            "tags": []
          },
          "execution_count": 83
        }
      ]
    },
    {
      "cell_type": "code",
      "metadata": {
        "id": "a2hJptPJREdk",
        "colab": {
          "base_uri": "https://localhost:8080/"
        },
        "outputId": "36ab65ad-a896-4d2e-9c41-284fc38011f5"
      },
      "source": [
        "## Logistic Regression\n",
        "from sklearn.linear_model import LogisticRegression\n",
        "\n",
        "log_reg = LogisticRegression(random_state=42)\n",
        "\n",
        "parameters = {'penalty':['l2'], \n",
        "              'C':[0.01, 0.05, 0.3, 0.7, 1]}\n",
        "\n",
        "grid_search = GridSearchCV(log_reg, parameters, cv=5, \n",
        "                           scoring='f1', return_train_score=True)\n",
        "grid_search.fit(X_train, y_train)\n",
        "\n",
        "grid_search.best_params_"
      ],
      "execution_count": 89,
      "outputs": [
        {
          "output_type": "execute_result",
          "data": {
            "text/plain": [
              "GridSearchCV(cv=5, error_score=nan,\n",
              "             estimator=LogisticRegression(C=1.0, class_weight=None, dual=False,\n",
              "                                          fit_intercept=True,\n",
              "                                          intercept_scaling=1, l1_ratio=None,\n",
              "                                          max_iter=100, multi_class='auto',\n",
              "                                          n_jobs=None, penalty='l2',\n",
              "                                          random_state=42, solver='lbfgs',\n",
              "                                          tol=0.0001, verbose=0,\n",
              "                                          warm_start=False),\n",
              "             iid='deprecated', n_jobs=None,\n",
              "             param_grid={'C': [0.01, 0.05, 0.3, 0.7, 1], 'penalty': ['l2']},\n",
              "             pre_dispatch='2*n_jobs', refit=True, return_train_score=True,\n",
              "             scoring='f1', verbose=0)"
            ]
          },
          "metadata": {
            "tags": []
          },
          "execution_count": 89
        },
        {
          "output_type": "execute_result",
          "data": {
            "text/plain": [
              "{'C': 0.05, 'penalty': 'l2'}"
            ]
          },
          "metadata": {
            "tags": []
          },
          "execution_count": 89
        }
      ]
    },
    {
      "cell_type": "code",
      "metadata": {
        "colab": {
          "base_uri": "https://localhost:8080/"
        },
        "id": "MfBseA7pSPWR",
        "outputId": "5c97e615-abf6-4283-9f86-1c14fa4a8e01"
      },
      "source": [
        "cv_res = grid_search.cv_results_\n",
        "for mean_score, params in zip(cv_res['mean_test_score'], cv_res['params']):\n",
        "  print(mean_score, params)"
      ],
      "execution_count": 90,
      "outputs": [
        {
          "output_type": "stream",
          "text": [
            "0.6322072175611999 {'C': 0.01, 'penalty': 'l2'}\n",
            "0.7191133283424284 {'C': 0.05, 'penalty': 'l2'}\n",
            "0.7169552146556221 {'C': 0.3, 'penalty': 'l2'}\n",
            "0.7136944542609375 {'C': 0.7, 'penalty': 'l2'}\n",
            "0.7136944542609375 {'C': 1, 'penalty': 'l2'}\n"
          ],
          "name": "stdout"
        }
      ]
    },
    {
      "cell_type": "code",
      "metadata": {
        "colab": {
          "base_uri": "https://localhost:8080/"
        },
        "id": "9scUaN9GUdME",
        "outputId": "d4197a0a-6876-46a8-aef1-813bec60d1ee"
      },
      "source": [
        "## Build and train 1 layer NN\n",
        "from keras import models\n",
        "from keras import layers\n",
        "\n",
        "model = models.Sequential()\n",
        "model.add(layers.Dense(6, activation='relu'))\n",
        "model.add(layers.Dense(1, activation='sigmoid'))\n",
        "\n",
        "model.compile(optimizer='rmsprop',\n",
        "              loss='binary_crossentropy', # 2 class classification\n",
        "              metrics=['accuracy'])\n",
        "\n",
        "model.fit(X_train, y_train, epochs=10) # batch_size "
      ],
      "execution_count": null,
      "outputs": [
        {
          "output_type": "stream",
          "text": [
            "Epoch 1/10\n",
            "28/28 [==============================] - 1s 2ms/step - loss: 0.6746 - accuracy: 0.5757\n",
            "Epoch 2/10\n",
            "28/28 [==============================] - 0s 1ms/step - loss: 0.6236 - accuracy: 0.6318\n",
            "Epoch 3/10\n",
            "28/28 [==============================] - 0s 1ms/step - loss: 0.6053 - accuracy: 0.6521\n",
            "Epoch 4/10\n",
            "28/28 [==============================] - 0s 1ms/step - loss: 0.5564 - accuracy: 0.7467\n",
            "Epoch 5/10\n",
            "28/28 [==============================] - 0s 2ms/step - loss: 0.5356 - accuracy: 0.7419\n",
            "Epoch 6/10\n",
            "28/28 [==============================] - 0s 1ms/step - loss: 0.5174 - accuracy: 0.7797\n",
            "Epoch 7/10\n",
            "28/28 [==============================] - 0s 1ms/step - loss: 0.5208 - accuracy: 0.7798\n",
            "Epoch 8/10\n",
            "28/28 [==============================] - 0s 1ms/step - loss: 0.4676 - accuracy: 0.8426\n",
            "Epoch 9/10\n",
            "28/28 [==============================] - 0s 1ms/step - loss: 0.4718 - accuracy: 0.8040\n",
            "Epoch 10/10\n",
            "28/28 [==============================] - 0s 1ms/step - loss: 0.4714 - accuracy: 0.8134\n"
          ],
          "name": "stdout"
        },
        {
          "output_type": "execute_result",
          "data": {
            "text/plain": [
              "<keras.callbacks.History at 0x7fe07736f310>"
            ]
          },
          "metadata": {
            "tags": []
          },
          "execution_count": 144
        }
      ]
    },
    {
      "cell_type": "code",
      "metadata": {
        "colab": {
          "base_uri": "https://localhost:8080/"
        },
        "id": "XWyRumCrUC5l",
        "outputId": "4b354134-d5fa-4af2-dcd5-4c8d1d81c75b"
      },
      "source": [
        "X_train.shape"
      ],
      "execution_count": 91,
      "outputs": [
        {
          "output_type": "execute_result",
          "data": {
            "text/plain": [
              "(891, 10)"
            ]
          },
          "metadata": {
            "tags": []
          },
          "execution_count": 91
        }
      ]
    },
    {
      "cell_type": "code",
      "metadata": {
        "id": "yA7lhvMNUNRZ"
      },
      "source": [
        "## Build and train 1 layer NN using k-fold CV (more number of data points)\n",
        "from keras import models, layers, regularizers\n",
        "\n",
        "def build_model(hidden_units=6):\n",
        "  model = models.Sequential()\n",
        "  model.add(layers.Dense(hidden_units, activation='relu', input_shape=(X_train.shape[1],)))\n",
        "            # kernel_regularizer=regularizers.l2(0.001))) # try regularisation\n",
        "  model.add(layers.Dropout(0.5)) # try dropout\n",
        "  model.add(layers.Dense(1, activation='sigmoid'))\n",
        "  model.compile(optimizer='rmsprop',\n",
        "                loss='binary_crossentropy', # 2 class classification\n",
        "                metrics=['accuracy', 'Precision', 'Recall'])\n",
        "  return model"
      ],
      "execution_count": 83,
      "outputs": []
    },
    {
      "cell_type": "code",
      "metadata": {
        "colab": {
          "base_uri": "https://localhost:8080/"
        },
        "id": "w9kXI8dgVHNH",
        "outputId": "ecc735c4-ffe2-4fda-eda7-36a7175c4e5c"
      },
      "source": [
        "import numpy as np\n",
        "\n",
        "# Set parameters for k-fold CV\n",
        "k = 8\n",
        "num_val_samples = len(X_train) // k\n",
        "num_epochs = 25\n",
        "hidden_units = 12\n",
        "all_msqre = []\n",
        "all_mabse = []\n",
        "all_acc_histories = []\n",
        "all_loss_histories = []\n",
        "all_prec_histories = []\n",
        "all_recall_histories = []\n",
        "\n",
        "# Run k-fold CV\n",
        "for i in range(k):\n",
        "  print('processing fold #', i)\n",
        "  # Split out kth fold for validation\n",
        "  X_val = X_train[i*num_val_samples:(i+1)*num_val_samples]\n",
        "  y_val = y_train[i*num_val_samples:(i+1)*num_val_samples]\n",
        "\n",
        "  # Split out remaining data for training\n",
        "  X_train_partial = np.concatenate(\n",
        "      [X_train[:i*num_val_samples],\n",
        "       X_train[(i+1)*num_val_samples:]],\n",
        "       axis=0\n",
        "  )\n",
        "  y_train_partial = np.concatenate(\n",
        "      [y_train[:i*num_val_samples],\n",
        "       y_train[(i+1)*num_val_samples:]],\n",
        "       axis=0\n",
        "  )\n",
        "\n",
        "  # Fit NN on partial training data\n",
        "  model = build_model(hidden_units=hidden_units)\n",
        "  history = model.fit(X_train_partial, y_train_partial,\n",
        "                      validation_data=(X_val, y_val),\n",
        "                      epochs=num_epochs, batch_size=10, verbose=0)\n",
        "  acc_history = history.history['val_accuracy']\n",
        "  all_acc_histories.append(acc_history) # mae over training epochs\n",
        "\n",
        "  loss_history = history.history['val_loss']\n",
        "  all_loss_histories.append(loss_history)\n",
        "\n",
        "  prec_history = history.history['val_precision']\n",
        "  all_prec_histories.append(prec_history)\n",
        "\n",
        "  recall_history = history.history['val_recall']\n",
        "  all_recall_histories.append(recall_history)\n",
        "\n",
        "  # val_loss, val_acc, val_prec = model.evaluate(X_val, y_val, verbose=0) # gives values after all epochs\n",
        "  "
      ],
      "execution_count": 88,
      "outputs": [
        {
          "output_type": "stream",
          "text": [
            "processing fold # 0\n",
            "processing fold # 1\n",
            "processing fold # 2\n",
            "processing fold # 3\n",
            "processing fold # 4\n",
            "processing fold # 5\n",
            "processing fold # 6\n",
            "processing fold # 7\n"
          ],
          "name": "stdout"
        }
      ]
    },
    {
      "cell_type": "code",
      "metadata": {
        "id": "Vp7p3I0x9gvD"
      },
      "source": [
        "print(\"Weights and biases of the layers: \\n\")\n",
        "for layer in model.layers:\n",
        "  print(layer.name)\n",
        "  print(\"Weights\")\n",
        "  print(\"Shape: \",layer.get_weights()[0].shape,'\\n',layer.get_weights()[0])\n",
        "  print(\"Bias\")\n",
        "  print(\"Shape: \",layer.get_weights()[1].shape,'\\n',layer.get_weights()[1],'\\n')"
      ],
      "execution_count": null,
      "outputs": []
    },
    {
      "cell_type": "code",
      "metadata": {
        "id": "9oDIvUtc6BjY"
      },
      "source": [
        "# 4 units 1 layer - achieves ~78% val acc over 20 epochs - 75% precision for 65% recall\n",
        "# 8 units 1 layer - achieves ~80% val acc over 20 epochs - 78% precision for 70% recall\n",
        "# 10 & 12 units 1 layer - not much improvement"
      ],
      "execution_count": null,
      "outputs": []
    },
    {
      "cell_type": "code",
      "metadata": {
        "colab": {
          "base_uri": "https://localhost:8080/",
          "height": 279
        },
        "id": "_mK6HIea3vTa",
        "outputId": "ac319c73-a705-4830-d2e3-b78d566578e2"
      },
      "source": [
        "import matplotlib.pyplot as plt\n",
        "\n",
        "def plot_training_history(all_histories):\n",
        "  avg_history = [np.mean([x[i] for x in all_histories]) for i in range(num_epochs)]\n",
        "\n",
        "  plt.plot(range(1, len(avg_history) + 1), avg_history)\n",
        "  plt.xlabel('Epochs')\n",
        "  plt.ylabel('Validation metric')\n",
        "\n",
        "plot_training_history(all_acc_histories)"
      ],
      "execution_count": 89,
      "outputs": [
        {
          "output_type": "display_data",
          "data": {
            "image/png": "[encoded data removed]",
            "text/plain": [
              "<Figure size 432x288 with 1 Axes>"
            ]
          },
          "metadata": {
            "tags": [],
            "needs_background": "light"
          }
        }
      ]
    },
    {
      "cell_type": "code",
      "metadata": {
        "colab": {
          "base_uri": "https://localhost:8080/",
          "height": 279
        },
        "id": "Vp7O5afB5F6C",
        "outputId": "5a5806ef-2209-45d8-bded-bcce7d4e9c8e"
      },
      "source": [
        "plot_training_history(all_loss_histories)"
      ],
      "execution_count": 90,
      "outputs": [
        {
          "output_type": "display_data",
          "data": {
            "image/png": "[encoded data removed]",
            "text/plain": [
              "<Figure size 432x288 with 1 Axes>"
            ]
          },
          "metadata": {
            "tags": [],
            "needs_background": "light"
          }
        }
      ]
    },
    {
      "cell_type": "code",
      "metadata": {
        "colab": {
          "base_uri": "https://localhost:8080/",
          "height": 279
        },
        "id": "4nTE_6xO5XZA",
        "outputId": "dacbcf0e-67c2-4ec3-a272-f1120bbbd9cf"
      },
      "source": [
        "plot_training_history(all_prec_histories)"
      ],
      "execution_count": 91,
      "outputs": [
        {
          "output_type": "display_data",
          "data": {
            "image/png": "[encoded data removed]",
            "text/plain": [
              "<Figure size 432x288 with 1 Axes>"
            ]
          },
          "metadata": {
            "tags": [],
            "needs_background": "light"
          }
        }
      ]
    },
    {
      "cell_type": "code",
      "metadata": {
        "colab": {
          "base_uri": "https://localhost:8080/",
          "height": 279
        },
        "id": "YPl4pVl25Sbb",
        "outputId": "bdc09b64-31ed-444e-f457-46dedfb0164a"
      },
      "source": [
        "plot_training_history(all_recall_histories)"
      ],
      "execution_count": 92,
      "outputs": [
        {
          "output_type": "display_data",
          "data": {
            "image/png": "[encoded data removed]",
            "text/plain": [
              "<Figure size 432x288 with 1 Axes>"
            ]
          },
          "metadata": {
            "tags": [],
            "needs_background": "light"
          }
        }
      ]
    },
    {
      "cell_type": "code",
      "metadata": {
        "colab": {
          "base_uri": "https://localhost:8080/"
        },
        "id": "5wEXL_dr0phM",
        "outputId": "bf581029-9298-40bb-c402-e3f95f0fb1a3"
      },
      "source": [
        "# 8-fold 10 units 1 layer\n",
        "print(' Avg MAE:', np.mean(all_mabse),\n",
        "      'Std MAE:', np.std(all_mabse), '\\n',\n",
        "      'Avg MSE:', np.mean(all_msqre),\n",
        "      'Std MSE:', np.std(all_msqre))"
      ],
      "execution_count": 17,
      "outputs": [
        {
          "output_type": "stream",
          "text": [
            " Avg MAE: 0.8018018081784248 Std MAE: 0.02206748025709064 \n",
            " Avg MSE: 0.4443003237247467 Std MSE: 0.03218294677460548\n"
          ],
          "name": "stdout"
        }
      ]
    },
    {
      "cell_type": "code",
      "metadata": {
        "id": "_WfEoMthSj2z"
      },
      "source": [
        "## Build and train 2 layer NN\n",
        "from keras import models\n",
        "from keras import layers\n",
        "\n",
        "def build_model(hidden_units_1=6, hidden_units_2=6):\n",
        "  model = models.Sequential()\n",
        "  model.add(layers.Dense(hidden_units_1, activation='relu', input_shape=(X_train.shape[1],)))\n",
        "  model.add(layers.Dense(hidden_units_2, activation='relu'))\n",
        "  model.add(layers.Dense(1, activation='sigmoid'))\n",
        "  model.compile(optimizer='rmsprop',\n",
        "                loss='binary_crossentropy', # 2 class classification\n",
        "                metrics=['accuracy', 'Precision', 'Recall'])\n",
        "  return model"
      ],
      "execution_count": 93,
      "outputs": []
    },
    {
      "cell_type": "code",
      "metadata": {
        "colab": {
          "base_uri": "https://localhost:8080/"
        },
        "id": "xaJl_f5d_ksn",
        "outputId": "18ed0d94-b62a-44c0-9d3a-ab4ae0c14a8d"
      },
      "source": [
        "import numpy as np\n",
        "\n",
        "# Set parameters for k-fold CV\n",
        "k = 8\n",
        "num_val_samples = len(X_train) // k\n",
        "num_epochs = 25\n",
        "hidden_units_1 = 8\n",
        "hidden_units_2 = 8\n",
        "\n",
        "all_acc_histories = []\n",
        "all_loss_histories = []\n",
        "all_prec_histories = []\n",
        "all_recall_histories = []\n",
        "\n",
        "# Run k-fold CV\n",
        "for i in range(k):\n",
        "  print('processing fold #', i)\n",
        "  # Split out kth fold for validation\n",
        "  X_val = X_train[i*num_val_samples:(i+1)*num_val_samples]\n",
        "  y_val = y_train[i*num_val_samples:(i+1)*num_val_samples]\n",
        "\n",
        "  # Split out remaining data for training\n",
        "  X_train_partial = np.concatenate(\n",
        "      [X_train[:i*num_val_samples],\n",
        "       X_train[(i+1)*num_val_samples:]],\n",
        "       axis=0\n",
        "  )\n",
        "  y_train_partial = np.concatenate(\n",
        "      [y_train[:i*num_val_samples],\n",
        "       y_train[(i+1)*num_val_samples:]],\n",
        "       axis=0\n",
        "  )\n",
        "\n",
        "  # Fit NN on partial training data\n",
        "  model = build_model(hidden_units_1=hidden_units_1, hidden_units_2=hidden_units_2)\n",
        "  history = model.fit(X_train_partial, y_train_partial,\n",
        "                      validation_data=(X_val, y_val),\n",
        "                      epochs=num_epochs, batch_size=100, verbose=0)\n",
        "  acc_history = history.history['val_accuracy']\n",
        "  all_acc_histories.append(acc_history) # mae over training epochs\n",
        "\n",
        "  loss_history = history.history['val_loss']\n",
        "  all_loss_histories.append(loss_history)\n",
        "\n",
        "  prec_history = history.history['val_precision']\n",
        "  all_prec_histories.append(prec_history)\n",
        "\n",
        "  recall_history = history.history['val_recall']\n",
        "  all_recall_histories.append(recall_history)"
      ],
      "execution_count": 109,
      "outputs": [
        {
          "output_type": "stream",
          "text": [
            "processing fold # 0\n",
            "processing fold # 1\n",
            "processing fold # 2\n",
            "processing fold # 3\n",
            "processing fold # 4\n",
            "processing fold # 5\n",
            "processing fold # 6\n",
            "processing fold # 7\n"
          ],
          "name": "stdout"
        }
      ]
    },
    {
      "cell_type": "code",
      "metadata": {
        "colab": {
          "base_uri": "https://localhost:8080/",
          "height": 606
        },
        "id": "Q_-XlrvA_x5d",
        "outputId": "305b464c-29c9-4198-8617-b095418f938b"
      },
      "source": [
        "import matplotlib.pyplot as plt\n",
        "plt.rcParams[\"figure.figsize\"] = (20, 10) # set default fig size\n",
        "\n",
        "def plot_training_history(all_acc_histories, all_loss_histories, all_prec_histories, all_recall_histories):\n",
        "  fig, axs = plt.subplots(nrows=2, ncols=2)\n",
        "\n",
        "  avg_history1 = [np.mean([x[i] for x in all_acc_histories]) for i in range(num_epochs)]\n",
        "  avg_history2 = [np.mean([x[i] for x in all_loss_histories]) for i in range(num_epochs)]\n",
        "  avg_history3 = [np.mean([x[i] for x in all_prec_histories]) for i in range(num_epochs)]\n",
        "  avg_history4 = [np.mean([x[i] for x in all_recall_histories]) for i in range(num_epochs)]\n",
        "\n",
        "  axs[0,0].plot(range(1, len(avg_history1) + 1), avg_history1)\n",
        "  axs[0,0].set_ylabel('Validation Accuracy')\n",
        "  axs[0,0].grid(True)\n",
        "\n",
        "  axs[0,1].plot(avg_history2)\n",
        "  axs[0,1].grid(True)\n",
        "  axs[0,1].set_ylabel('Validation Loss')\n",
        "\n",
        "  axs[1,0].plot(avg_history3)\n",
        "  axs[1,0].set_xlabel('Epochs')\n",
        "  axs[1,0].set_ylabel('Validation Precision')\n",
        "  axs[1,0].grid(True)\n",
        "\n",
        "  axs[1,1].plot(avg_history4)\n",
        "  axs[1,1].set_xlabel('Epochs')\n",
        "  axs[1,1].set_ylabel('Validation Recall')\n",
        "  axs[1,1].grid(True)\n",
        "\n",
        "plot_training_history(all_acc_histories, all_loss_histories, all_prec_histories, all_recall_histories)"
      ],
      "execution_count": 107,
      "outputs": [
        {
          "output_type": "display_data",
          "data": {
            "image/png": "[encoded data removed]",
            "text/plain": [
              "<Figure size 1440x720 with 4 Axes>"
            ]
          },
          "metadata": {
            "tags": [],
            "needs_background": "light"
          }
        }
      ]
    },
    {
      "cell_type": "markdown",
      "metadata": {
        "id": "j5OW2nLSRvcq"
      },
      "source": [
        "### 4. Compare Models"
      ]
    },
    {
      "cell_type": "code",
      "metadata": {
        "id": "ZtFt2MOoGiFE"
      },
      "source": [
        "# Assess ROC Curve\n",
        "from sklearn.metrics import roc_curve\n",
        "\n",
        "y_forest_prob = cross_val_predict(forest_clf, X_train, y_train, cv=5, method='predict_proba')\n",
        "fpr, tpr, thresholds = roc_curve(y_train, y_forest_prob[:, 1])"
      ],
      "execution_count": null,
      "outputs": []
    },
    {
      "cell_type": "code",
      "metadata": {
        "colab": {
          "base_uri": "https://localhost:8080/",
          "height": 393
        },
        "id": "6hcNLArOH6RW",
        "outputId": "522c2390-850c-4b6f-ef88-5527c025e7bb"
      },
      "source": [
        "import matplotlib.pyplot as plt\n",
        "\n",
        "def plot_roc_curve(fpr, tpr, label=None):\n",
        "  plt.plot(fpr, tpr, linewidth=2, label=label)\n",
        "  plt.plot([0, 1], [0, 1], 'k--')\n",
        "  plt.xlabel('False Positive Rate (Fall-Out)', fontsize=16)\n",
        "  plt.ylabel('True Positive Rate (Recall)', fontsize=16)   \n",
        "  plt.grid(True)\n",
        "\n",
        "plt.figure(figsize=(8, 6)) \n",
        "plot_roc_curve(fpr, tpr) # compare with other models, also tune hyp parameters"
      ],
      "execution_count": null,
      "outputs": [
        {
          "output_type": "display_data",
          "data": {
            "image/png": "[encoded data removed]",
            "text/plain": [
              "<Figure size 576x432 with 1 Axes>"
            ]
          },
          "metadata": {
            "tags": [],
            "needs_background": "light"
          }
        }
      ]
    }
  ]
}